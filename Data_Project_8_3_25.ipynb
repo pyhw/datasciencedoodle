{
 "cells": [
  {
   "cell_type": "markdown",
   "id": "89efb761",
   "metadata": {},
   "source": [
    "## Filming data Analysis"
   ]
  },
  {
   "cell_type": "code",
   "execution_count": 2,
   "id": "fac3c53b",
   "metadata": {},
   "outputs": [],
   "source": [
    "import pandas as pd\n",
    "import matplotlib.pyplot as plt"
   ]
  },
  {
   "cell_type": "code",
   "execution_count": 3,
   "id": "76026e8a",
   "metadata": {},
   "outputs": [],
   "source": [
    "film = pd.read_csv('content/Film_Permits_20250801.csv')"
   ]
  },
  {
   "cell_type": "code",
   "execution_count": 4,
   "id": "12a168a7",
   "metadata": {},
   "outputs": [
    {
     "data": {
      "application/vnd.microsoft.datawrangler.viewer.v0+json": {
       "columns": [
        {
         "name": "index",
         "rawType": "int64",
         "type": "integer"
        },
        {
         "name": "EventID",
         "rawType": "int64",
         "type": "integer"
        },
        {
         "name": "EventType",
         "rawType": "object",
         "type": "string"
        },
        {
         "name": "StartDateTime",
         "rawType": "object",
         "type": "string"
        },
        {
         "name": "EndDateTime",
         "rawType": "object",
         "type": "string"
        },
        {
         "name": "EnteredOn",
         "rawType": "object",
         "type": "string"
        },
        {
         "name": "EventAgency",
         "rawType": "object",
         "type": "string"
        },
        {
         "name": "ParkingHeld",
         "rawType": "object",
         "type": "string"
        },
        {
         "name": "Borough",
         "rawType": "object",
         "type": "string"
        },
        {
         "name": "CommunityBoard(s)",
         "rawType": "object",
         "type": "string"
        },
        {
         "name": "PolicePrecinct(s)",
         "rawType": "object",
         "type": "string"
        },
        {
         "name": "Category",
         "rawType": "object",
         "type": "string"
        },
        {
         "name": "SubCategoryName",
         "rawType": "object",
         "type": "string"
        },
        {
         "name": "Country",
         "rawType": "object",
         "type": "string"
        },
        {
         "name": "ZipCode(s)",
         "rawType": "object",
         "type": "string"
        }
       ],
       "ref": "0e73e707-55db-485d-bb47-e891916867d5",
       "rows": [
        [
         "0",
         "813185",
         "Shooting Permit",
         "09/30/2024 06:00:00 AM",
         "09/30/2024 08:00:00 PM",
         "09/24/2024 03:59:49 PM",
         "Mayor's Office of Media & Entertainment",
         "WEST   33 STREET between 7 AVENUE and 8 AVENUE",
         "Manhattan",
         "5",
         "14",
         "Television",
         "Reality",
         "United States of America",
         "10001, 10121"
        ],
        [
         "1",
         "766529",
         "Theater Load in and Load Outs",
         "03/09/2024 12:01:00 AM",
         "03/09/2024 11:59:00 PM",
         "03/04/2024 03:26:07 PM",
         "Mayor's Office of Media & Entertainment",
         "7 AVENUE between WEST   57 STREET and WEST   56 STREET",
         "Manhattan",
         "5",
         "18",
         "Theater",
         "Theater",
         "United States of America",
         "10019, 10106"
        ],
        [
         "2",
         "783793",
         "Shooting Permit",
         "05/30/2024 06:00:00 AM",
         "05/30/2024 10:00:00 PM",
         "05/10/2024 05:45:12 PM",
         "Mayor's Office of Media & Entertainment",
         "WEST   60 STREET between AMSTERDAM AVENUE and COLUMBUS AVENUE,  AMSTERDAM AVENUE between WEST   60 STREET and WEST   62 STREET,  COLUMBUS AVENUE between WEST   60 STREET and WEST   61 STREET,  BROADWAY between WEST   66 STREET and WEST   70 STREET,  WEST   69 STREET between AMSTERDAM AVENUE and BROADWAY,  WEST   62 STREET between AMSTERDAM AVENUE and COLUMBUS AVENUE",
         "Manhattan",
         "7",
         "20",
         "Television",
         "Episodic series",
         "United States of America",
         "10023"
        ],
        [
         "3",
         "776945",
         "Shooting Permit",
         "04/29/2024 07:30:00 AM",
         "04/29/2024 08:00:00 PM",
         "04/16/2024 10:57:35 AM",
         "Mayor's Office of Media & Entertainment",
         "BEDFORD AVENUE between SOUTH    6 STREET and SOUTH    5 STREET,  SOUTH    5 STREET between BEDFORD AVENUE and DRIGGS AVENUE,  SOUTH    5 STREET between DRIGGS AVENUE and SOUTH    5 PLACE,  SOUTH    4 STREET between DRIGGS AVENUE and ROEBLING STREET,  KENT AVENUE between SOUTH    5 STREET and SOUTH    6 STREET,  SOUTH    5 STREET between KENT AVENUE and BEDFORD AVENUE,  WYTHE AVENUE between SOUTH    5 STREET and SOUTH    4 STREET,  BEDFORD AVENUE between SOUTH    5 STREET and SOUTH    4 STREET,  BEDFORD AVENUE between SOUTH    4 STREET and SOUTH    3 STREET,  SOUTH    4 STREET between BEDFORD AVENUE and DRIGGS AVENUE,  DRIGGS AVENUE between SOUTH    4 STREET and SOUTH    5 STREET,  DRIGGS AVENUE between BROADWAY and SOUTH    5 STREET",
         "Brooklyn",
         "1, 3",
         "7, 90",
         "Television",
         "Episodic series",
         "United States of America",
         "10002, 11211, 11249"
        ],
        [
         "4",
         "814655",
         "Shooting Permit",
         "10/06/2024 02:00:00 AM",
         "10/06/2024 12:00:00 PM",
         "10/04/2024 08:36:22 AM",
         "Mayor's Office of Media & Entertainment",
         "WEST   48 STREET between 6 AVENUE and 7 AVENUE",
         "Manhattan",
         "5",
         "18",
         "Television",
         "News",
         "United States of America",
         "10036, 10105"
        ]
       ],
       "shape": {
        "columns": 14,
        "rows": 5
       }
      },
      "text/html": [
       "<div>\n",
       "<style scoped>\n",
       "    .dataframe tbody tr th:only-of-type {\n",
       "        vertical-align: middle;\n",
       "    }\n",
       "\n",
       "    .dataframe tbody tr th {\n",
       "        vertical-align: top;\n",
       "    }\n",
       "\n",
       "    .dataframe thead th {\n",
       "        text-align: right;\n",
       "    }\n",
       "</style>\n",
       "<table border=\"1\" class=\"dataframe\">\n",
       "  <thead>\n",
       "    <tr style=\"text-align: right;\">\n",
       "      <th></th>\n",
       "      <th>EventID</th>\n",
       "      <th>EventType</th>\n",
       "      <th>StartDateTime</th>\n",
       "      <th>EndDateTime</th>\n",
       "      <th>EnteredOn</th>\n",
       "      <th>EventAgency</th>\n",
       "      <th>ParkingHeld</th>\n",
       "      <th>Borough</th>\n",
       "      <th>CommunityBoard(s)</th>\n",
       "      <th>PolicePrecinct(s)</th>\n",
       "      <th>Category</th>\n",
       "      <th>SubCategoryName</th>\n",
       "      <th>Country</th>\n",
       "      <th>ZipCode(s)</th>\n",
       "    </tr>\n",
       "  </thead>\n",
       "  <tbody>\n",
       "    <tr>\n",
       "      <th>0</th>\n",
       "      <td>813185</td>\n",
       "      <td>Shooting Permit</td>\n",
       "      <td>09/30/2024 06:00:00 AM</td>\n",
       "      <td>09/30/2024 08:00:00 PM</td>\n",
       "      <td>09/24/2024 03:59:49 PM</td>\n",
       "      <td>Mayor's Office of Media &amp; Entertainment</td>\n",
       "      <td>WEST   33 STREET between 7 AVENUE and 8 AVENUE</td>\n",
       "      <td>Manhattan</td>\n",
       "      <td>5</td>\n",
       "      <td>14</td>\n",
       "      <td>Television</td>\n",
       "      <td>Reality</td>\n",
       "      <td>United States of America</td>\n",
       "      <td>10001, 10121</td>\n",
       "    </tr>\n",
       "    <tr>\n",
       "      <th>1</th>\n",
       "      <td>766529</td>\n",
       "      <td>Theater Load in and Load Outs</td>\n",
       "      <td>03/09/2024 12:01:00 AM</td>\n",
       "      <td>03/09/2024 11:59:00 PM</td>\n",
       "      <td>03/04/2024 03:26:07 PM</td>\n",
       "      <td>Mayor's Office of Media &amp; Entertainment</td>\n",
       "      <td>7 AVENUE between WEST   57 STREET and WEST   5...</td>\n",
       "      <td>Manhattan</td>\n",
       "      <td>5</td>\n",
       "      <td>18</td>\n",
       "      <td>Theater</td>\n",
       "      <td>Theater</td>\n",
       "      <td>United States of America</td>\n",
       "      <td>10019, 10106</td>\n",
       "    </tr>\n",
       "    <tr>\n",
       "      <th>2</th>\n",
       "      <td>783793</td>\n",
       "      <td>Shooting Permit</td>\n",
       "      <td>05/30/2024 06:00:00 AM</td>\n",
       "      <td>05/30/2024 10:00:00 PM</td>\n",
       "      <td>05/10/2024 05:45:12 PM</td>\n",
       "      <td>Mayor's Office of Media &amp; Entertainment</td>\n",
       "      <td>WEST   60 STREET between AMSTERDAM AVENUE and ...</td>\n",
       "      <td>Manhattan</td>\n",
       "      <td>7</td>\n",
       "      <td>20</td>\n",
       "      <td>Television</td>\n",
       "      <td>Episodic series</td>\n",
       "      <td>United States of America</td>\n",
       "      <td>10023</td>\n",
       "    </tr>\n",
       "    <tr>\n",
       "      <th>3</th>\n",
       "      <td>776945</td>\n",
       "      <td>Shooting Permit</td>\n",
       "      <td>04/29/2024 07:30:00 AM</td>\n",
       "      <td>04/29/2024 08:00:00 PM</td>\n",
       "      <td>04/16/2024 10:57:35 AM</td>\n",
       "      <td>Mayor's Office of Media &amp; Entertainment</td>\n",
       "      <td>BEDFORD AVENUE between SOUTH    6 STREET and S...</td>\n",
       "      <td>Brooklyn</td>\n",
       "      <td>1, 3</td>\n",
       "      <td>7, 90</td>\n",
       "      <td>Television</td>\n",
       "      <td>Episodic series</td>\n",
       "      <td>United States of America</td>\n",
       "      <td>10002, 11211, 11249</td>\n",
       "    </tr>\n",
       "    <tr>\n",
       "      <th>4</th>\n",
       "      <td>814655</td>\n",
       "      <td>Shooting Permit</td>\n",
       "      <td>10/06/2024 02:00:00 AM</td>\n",
       "      <td>10/06/2024 12:00:00 PM</td>\n",
       "      <td>10/04/2024 08:36:22 AM</td>\n",
       "      <td>Mayor's Office of Media &amp; Entertainment</td>\n",
       "      <td>WEST   48 STREET between 6 AVENUE and 7 AVENUE</td>\n",
       "      <td>Manhattan</td>\n",
       "      <td>5</td>\n",
       "      <td>18</td>\n",
       "      <td>Television</td>\n",
       "      <td>News</td>\n",
       "      <td>United States of America</td>\n",
       "      <td>10036, 10105</td>\n",
       "    </tr>\n",
       "  </tbody>\n",
       "</table>\n",
       "</div>"
      ],
      "text/plain": [
       "   EventID                      EventType           StartDateTime  \\\n",
       "0   813185                Shooting Permit  09/30/2024 06:00:00 AM   \n",
       "1   766529  Theater Load in and Load Outs  03/09/2024 12:01:00 AM   \n",
       "2   783793                Shooting Permit  05/30/2024 06:00:00 AM   \n",
       "3   776945                Shooting Permit  04/29/2024 07:30:00 AM   \n",
       "4   814655                Shooting Permit  10/06/2024 02:00:00 AM   \n",
       "\n",
       "              EndDateTime               EnteredOn  \\\n",
       "0  09/30/2024 08:00:00 PM  09/24/2024 03:59:49 PM   \n",
       "1  03/09/2024 11:59:00 PM  03/04/2024 03:26:07 PM   \n",
       "2  05/30/2024 10:00:00 PM  05/10/2024 05:45:12 PM   \n",
       "3  04/29/2024 08:00:00 PM  04/16/2024 10:57:35 AM   \n",
       "4  10/06/2024 12:00:00 PM  10/04/2024 08:36:22 AM   \n",
       "\n",
       "                               EventAgency  \\\n",
       "0  Mayor's Office of Media & Entertainment   \n",
       "1  Mayor's Office of Media & Entertainment   \n",
       "2  Mayor's Office of Media & Entertainment   \n",
       "3  Mayor's Office of Media & Entertainment   \n",
       "4  Mayor's Office of Media & Entertainment   \n",
       "\n",
       "                                         ParkingHeld    Borough  \\\n",
       "0     WEST   33 STREET between 7 AVENUE and 8 AVENUE  Manhattan   \n",
       "1  7 AVENUE between WEST   57 STREET and WEST   5...  Manhattan   \n",
       "2  WEST   60 STREET between AMSTERDAM AVENUE and ...  Manhattan   \n",
       "3  BEDFORD AVENUE between SOUTH    6 STREET and S...   Brooklyn   \n",
       "4     WEST   48 STREET between 6 AVENUE and 7 AVENUE  Manhattan   \n",
       "\n",
       "  CommunityBoard(s) PolicePrecinct(s)    Category  SubCategoryName  \\\n",
       "0                 5                14  Television          Reality   \n",
       "1                 5                18     Theater          Theater   \n",
       "2                 7                20  Television  Episodic series   \n",
       "3              1, 3             7, 90  Television  Episodic series   \n",
       "4                 5                18  Television             News   \n",
       "\n",
       "                    Country           ZipCode(s)  \n",
       "0  United States of America         10001, 10121  \n",
       "1  United States of America         10019, 10106  \n",
       "2  United States of America                10023  \n",
       "3  United States of America  10002, 11211, 11249  \n",
       "4  United States of America         10036, 10105  "
      ]
     },
     "execution_count": 4,
     "metadata": {},
     "output_type": "execute_result"
    }
   ],
   "source": [
    "film.head()"
   ]
  },
  {
   "cell_type": "code",
   "execution_count": 10,
   "id": "a60b93d9",
   "metadata": {},
   "outputs": [
    {
     "name": "stderr",
     "output_type": "stream",
     "text": [
      "C:\\Users\\weihu\\AppData\\Local\\Temp\\ipykernel_868\\3961821174.py:4: UserWarning: Could not infer format, so each element will be parsed individually, falling back to `dateutil`. To ensure parsing is consistent and as-expected, please specify a format.\n",
      "  film['EndDate'] = pd.to_datetime(film['EndDateTime'])\n"
     ]
    },
    {
     "data": {
      "application/vnd.microsoft.datawrangler.viewer.v0+json": {
       "columns": [
        {
         "name": "index",
         "rawType": "int64",
         "type": "integer"
        },
        {
         "name": "EventID",
         "rawType": "int64",
         "type": "integer"
        },
        {
         "name": "EventType",
         "rawType": "object",
         "type": "string"
        },
        {
         "name": "StartDateTime",
         "rawType": "object",
         "type": "string"
        },
        {
         "name": "EndDateTime",
         "rawType": "object",
         "type": "string"
        },
        {
         "name": "EnteredOn",
         "rawType": "object",
         "type": "string"
        },
        {
         "name": "EventAgency",
         "rawType": "object",
         "type": "string"
        },
        {
         "name": "ParkingHeld",
         "rawType": "object",
         "type": "string"
        },
        {
         "name": "Borough",
         "rawType": "object",
         "type": "string"
        },
        {
         "name": "CommunityBoard(s)",
         "rawType": "object",
         "type": "string"
        },
        {
         "name": "PolicePrecinct(s)",
         "rawType": "object",
         "type": "string"
        },
        {
         "name": "Category",
         "rawType": "object",
         "type": "string"
        },
        {
         "name": "SubCategoryName",
         "rawType": "object",
         "type": "string"
        },
        {
         "name": "Country",
         "rawType": "object",
         "type": "string"
        },
        {
         "name": "ZipCode(s)",
         "rawType": "object",
         "type": "string"
        },
        {
         "name": "StartDate",
         "rawType": "object",
         "type": "string"
        },
        {
         "name": "EndDate",
         "rawType": "object",
         "type": "string"
        }
       ],
       "ref": "d2244edc-0f9b-4d85-ae44-997c985b34da",
       "rows": [
        [
         "0",
         "813185",
         "Shooting Permit",
         "09/30/2024 06:00:00 AM",
         "09/30/2024 08:00:00 PM",
         "09/24/2024 03:59:49 PM",
         "Mayor's Office of Media & Entertainment",
         "WEST   33 STREET between 7 AVENUE and 8 AVENUE",
         "Manhattan",
         "5",
         "14",
         "Television",
         "Reality",
         "United States of America",
         "10001, 10121",
         "2024-09-30",
         "2024-09-30"
        ],
        [
         "1",
         "766529",
         "Theater Load in and Load Outs",
         "03/09/2024 12:01:00 AM",
         "03/09/2024 11:59:00 PM",
         "03/04/2024 03:26:07 PM",
         "Mayor's Office of Media & Entertainment",
         "7 AVENUE between WEST   57 STREET and WEST   56 STREET",
         "Manhattan",
         "5",
         "18",
         "Theater",
         "Theater",
         "United States of America",
         "10019, 10106",
         "2024-03-09",
         "2024-03-09"
        ],
        [
         "2",
         "783793",
         "Shooting Permit",
         "05/30/2024 06:00:00 AM",
         "05/30/2024 10:00:00 PM",
         "05/10/2024 05:45:12 PM",
         "Mayor's Office of Media & Entertainment",
         "WEST   60 STREET between AMSTERDAM AVENUE and COLUMBUS AVENUE,  AMSTERDAM AVENUE between WEST   60 STREET and WEST   62 STREET,  COLUMBUS AVENUE between WEST   60 STREET and WEST   61 STREET,  BROADWAY between WEST   66 STREET and WEST   70 STREET,  WEST   69 STREET between AMSTERDAM AVENUE and BROADWAY,  WEST   62 STREET between AMSTERDAM AVENUE and COLUMBUS AVENUE",
         "Manhattan",
         "7",
         "20",
         "Television",
         "Episodic series",
         "United States of America",
         "10023",
         "2024-05-30",
         "2024-05-30"
        ],
        [
         "3",
         "776945",
         "Shooting Permit",
         "04/29/2024 07:30:00 AM",
         "04/29/2024 08:00:00 PM",
         "04/16/2024 10:57:35 AM",
         "Mayor's Office of Media & Entertainment",
         "BEDFORD AVENUE between SOUTH    6 STREET and SOUTH    5 STREET,  SOUTH    5 STREET between BEDFORD AVENUE and DRIGGS AVENUE,  SOUTH    5 STREET between DRIGGS AVENUE and SOUTH    5 PLACE,  SOUTH    4 STREET between DRIGGS AVENUE and ROEBLING STREET,  KENT AVENUE between SOUTH    5 STREET and SOUTH    6 STREET,  SOUTH    5 STREET between KENT AVENUE and BEDFORD AVENUE,  WYTHE AVENUE between SOUTH    5 STREET and SOUTH    4 STREET,  BEDFORD AVENUE between SOUTH    5 STREET and SOUTH    4 STREET,  BEDFORD AVENUE between SOUTH    4 STREET and SOUTH    3 STREET,  SOUTH    4 STREET between BEDFORD AVENUE and DRIGGS AVENUE,  DRIGGS AVENUE between SOUTH    4 STREET and SOUTH    5 STREET,  DRIGGS AVENUE between BROADWAY and SOUTH    5 STREET",
         "Brooklyn",
         "1, 3",
         "7, 90",
         "Television",
         "Episodic series",
         "United States of America",
         "10002, 11211, 11249",
         "2024-04-29",
         "2024-04-29"
        ],
        [
         "4",
         "814655",
         "Shooting Permit",
         "10/06/2024 02:00:00 AM",
         "10/06/2024 12:00:00 PM",
         "10/04/2024 08:36:22 AM",
         "Mayor's Office of Media & Entertainment",
         "WEST   48 STREET between 6 AVENUE and 7 AVENUE",
         "Manhattan",
         "5",
         "18",
         "Television",
         "News",
         "United States of America",
         "10036, 10105",
         "2024-10-06",
         "2024-10-06"
        ]
       ],
       "shape": {
        "columns": 16,
        "rows": 5
       }
      },
      "text/html": [
       "<div>\n",
       "<style scoped>\n",
       "    .dataframe tbody tr th:only-of-type {\n",
       "        vertical-align: middle;\n",
       "    }\n",
       "\n",
       "    .dataframe tbody tr th {\n",
       "        vertical-align: top;\n",
       "    }\n",
       "\n",
       "    .dataframe thead th {\n",
       "        text-align: right;\n",
       "    }\n",
       "</style>\n",
       "<table border=\"1\" class=\"dataframe\">\n",
       "  <thead>\n",
       "    <tr style=\"text-align: right;\">\n",
       "      <th></th>\n",
       "      <th>EventID</th>\n",
       "      <th>EventType</th>\n",
       "      <th>StartDateTime</th>\n",
       "      <th>EndDateTime</th>\n",
       "      <th>EnteredOn</th>\n",
       "      <th>EventAgency</th>\n",
       "      <th>ParkingHeld</th>\n",
       "      <th>Borough</th>\n",
       "      <th>CommunityBoard(s)</th>\n",
       "      <th>PolicePrecinct(s)</th>\n",
       "      <th>Category</th>\n",
       "      <th>SubCategoryName</th>\n",
       "      <th>Country</th>\n",
       "      <th>ZipCode(s)</th>\n",
       "      <th>StartDate</th>\n",
       "      <th>EndDate</th>\n",
       "    </tr>\n",
       "  </thead>\n",
       "  <tbody>\n",
       "    <tr>\n",
       "      <th>0</th>\n",
       "      <td>813185</td>\n",
       "      <td>Shooting Permit</td>\n",
       "      <td>09/30/2024 06:00:00 AM</td>\n",
       "      <td>09/30/2024 08:00:00 PM</td>\n",
       "      <td>09/24/2024 03:59:49 PM</td>\n",
       "      <td>Mayor's Office of Media &amp; Entertainment</td>\n",
       "      <td>WEST   33 STREET between 7 AVENUE and 8 AVENUE</td>\n",
       "      <td>Manhattan</td>\n",
       "      <td>5</td>\n",
       "      <td>14</td>\n",
       "      <td>Television</td>\n",
       "      <td>Reality</td>\n",
       "      <td>United States of America</td>\n",
       "      <td>10001, 10121</td>\n",
       "      <td>2024-09-30</td>\n",
       "      <td>2024-09-30</td>\n",
       "    </tr>\n",
       "    <tr>\n",
       "      <th>1</th>\n",
       "      <td>766529</td>\n",
       "      <td>Theater Load in and Load Outs</td>\n",
       "      <td>03/09/2024 12:01:00 AM</td>\n",
       "      <td>03/09/2024 11:59:00 PM</td>\n",
       "      <td>03/04/2024 03:26:07 PM</td>\n",
       "      <td>Mayor's Office of Media &amp; Entertainment</td>\n",
       "      <td>7 AVENUE between WEST   57 STREET and WEST   5...</td>\n",
       "      <td>Manhattan</td>\n",
       "      <td>5</td>\n",
       "      <td>18</td>\n",
       "      <td>Theater</td>\n",
       "      <td>Theater</td>\n",
       "      <td>United States of America</td>\n",
       "      <td>10019, 10106</td>\n",
       "      <td>2024-03-09</td>\n",
       "      <td>2024-03-09</td>\n",
       "    </tr>\n",
       "    <tr>\n",
       "      <th>2</th>\n",
       "      <td>783793</td>\n",
       "      <td>Shooting Permit</td>\n",
       "      <td>05/30/2024 06:00:00 AM</td>\n",
       "      <td>05/30/2024 10:00:00 PM</td>\n",
       "      <td>05/10/2024 05:45:12 PM</td>\n",
       "      <td>Mayor's Office of Media &amp; Entertainment</td>\n",
       "      <td>WEST   60 STREET between AMSTERDAM AVENUE and ...</td>\n",
       "      <td>Manhattan</td>\n",
       "      <td>7</td>\n",
       "      <td>20</td>\n",
       "      <td>Television</td>\n",
       "      <td>Episodic series</td>\n",
       "      <td>United States of America</td>\n",
       "      <td>10023</td>\n",
       "      <td>2024-05-30</td>\n",
       "      <td>2024-05-30</td>\n",
       "    </tr>\n",
       "    <tr>\n",
       "      <th>3</th>\n",
       "      <td>776945</td>\n",
       "      <td>Shooting Permit</td>\n",
       "      <td>04/29/2024 07:30:00 AM</td>\n",
       "      <td>04/29/2024 08:00:00 PM</td>\n",
       "      <td>04/16/2024 10:57:35 AM</td>\n",
       "      <td>Mayor's Office of Media &amp; Entertainment</td>\n",
       "      <td>BEDFORD AVENUE between SOUTH    6 STREET and S...</td>\n",
       "      <td>Brooklyn</td>\n",
       "      <td>1, 3</td>\n",
       "      <td>7, 90</td>\n",
       "      <td>Television</td>\n",
       "      <td>Episodic series</td>\n",
       "      <td>United States of America</td>\n",
       "      <td>10002, 11211, 11249</td>\n",
       "      <td>2024-04-29</td>\n",
       "      <td>2024-04-29</td>\n",
       "    </tr>\n",
       "    <tr>\n",
       "      <th>4</th>\n",
       "      <td>814655</td>\n",
       "      <td>Shooting Permit</td>\n",
       "      <td>10/06/2024 02:00:00 AM</td>\n",
       "      <td>10/06/2024 12:00:00 PM</td>\n",
       "      <td>10/04/2024 08:36:22 AM</td>\n",
       "      <td>Mayor's Office of Media &amp; Entertainment</td>\n",
       "      <td>WEST   48 STREET between 6 AVENUE and 7 AVENUE</td>\n",
       "      <td>Manhattan</td>\n",
       "      <td>5</td>\n",
       "      <td>18</td>\n",
       "      <td>Television</td>\n",
       "      <td>News</td>\n",
       "      <td>United States of America</td>\n",
       "      <td>10036, 10105</td>\n",
       "      <td>2024-10-06</td>\n",
       "      <td>2024-10-06</td>\n",
       "    </tr>\n",
       "  </tbody>\n",
       "</table>\n",
       "</div>"
      ],
      "text/plain": [
       "   EventID                      EventType           StartDateTime  \\\n",
       "0   813185                Shooting Permit  09/30/2024 06:00:00 AM   \n",
       "1   766529  Theater Load in and Load Outs  03/09/2024 12:01:00 AM   \n",
       "2   783793                Shooting Permit  05/30/2024 06:00:00 AM   \n",
       "3   776945                Shooting Permit  04/29/2024 07:30:00 AM   \n",
       "4   814655                Shooting Permit  10/06/2024 02:00:00 AM   \n",
       "\n",
       "              EndDateTime               EnteredOn  \\\n",
       "0  09/30/2024 08:00:00 PM  09/24/2024 03:59:49 PM   \n",
       "1  03/09/2024 11:59:00 PM  03/04/2024 03:26:07 PM   \n",
       "2  05/30/2024 10:00:00 PM  05/10/2024 05:45:12 PM   \n",
       "3  04/29/2024 08:00:00 PM  04/16/2024 10:57:35 AM   \n",
       "4  10/06/2024 12:00:00 PM  10/04/2024 08:36:22 AM   \n",
       "\n",
       "                               EventAgency  \\\n",
       "0  Mayor's Office of Media & Entertainment   \n",
       "1  Mayor's Office of Media & Entertainment   \n",
       "2  Mayor's Office of Media & Entertainment   \n",
       "3  Mayor's Office of Media & Entertainment   \n",
       "4  Mayor's Office of Media & Entertainment   \n",
       "\n",
       "                                         ParkingHeld    Borough  \\\n",
       "0     WEST   33 STREET between 7 AVENUE and 8 AVENUE  Manhattan   \n",
       "1  7 AVENUE between WEST   57 STREET and WEST   5...  Manhattan   \n",
       "2  WEST   60 STREET between AMSTERDAM AVENUE and ...  Manhattan   \n",
       "3  BEDFORD AVENUE between SOUTH    6 STREET and S...   Brooklyn   \n",
       "4     WEST   48 STREET between 6 AVENUE and 7 AVENUE  Manhattan   \n",
       "\n",
       "  CommunityBoard(s) PolicePrecinct(s)    Category  SubCategoryName  \\\n",
       "0                 5                14  Television          Reality   \n",
       "1                 5                18     Theater          Theater   \n",
       "2                 7                20  Television  Episodic series   \n",
       "3              1, 3             7, 90  Television  Episodic series   \n",
       "4                 5                18  Television             News   \n",
       "\n",
       "                    Country           ZipCode(s)   StartDate     EndDate  \n",
       "0  United States of America         10001, 10121  2024-09-30  2024-09-30  \n",
       "1  United States of America         10019, 10106  2024-03-09  2024-03-09  \n",
       "2  United States of America                10023  2024-05-30  2024-05-30  \n",
       "3  United States of America  10002, 11211, 11249  2024-04-29  2024-04-29  \n",
       "4  United States of America         10036, 10105  2024-10-06  2024-10-06  "
      ]
     },
     "execution_count": 10,
     "metadata": {},
     "output_type": "execute_result"
    }
   ],
   "source": [
    "# convert StartDate to date format yyyy-mm-dd\n",
    "# create two date columns from StartDateTime and EndDateTime from film dataframe\n",
    "film['StartDate'] = pd.to_datetime(film['StartDateTime'])\n",
    "film['EndDate'] = pd.to_datetime(film['EndDateTime'])\n",
    "# Display the dataframe with StartDate and EndDate formatted as yyyy-mm-dd\n",
    "film['StartDate'] = film['StartDate'].dt.strftime('%Y-%m-%d')\n",
    "film['EndDate'] = film['EndDate'].dt.strftime('%Y-%m-%d')\n",
    "film.head()"
   ]
  },
  {
   "cell_type": "markdown",
   "id": "7a0d54a0",
   "metadata": {},
   "source": [
    "### High level Visualization"
   ]
  },
  {
   "cell_type": "code",
   "execution_count": 15,
   "id": "b14c9dff",
   "metadata": {},
   "outputs": [
    {
     "data": {
      "application/vnd.microsoft.datawrangler.viewer.v0+json": {
       "columns": [
        {
         "name": "index",
         "rawType": "int64",
         "type": "integer"
        },
        {
         "name": "Borough",
         "rawType": "object",
         "type": "string"
        },
        {
         "name": "Unique_Events",
         "rawType": "int64",
         "type": "integer"
        }
       ],
       "ref": "db3d8dff-403a-4038-81fc-f9f56b714da3",
       "rows": [
        [
         "0",
         "Bronx",
         "394"
        ],
        [
         "1",
         "Brooklyn",
         "4192"
        ],
        [
         "2",
         "Manhattan",
         "6375"
        ],
        [
         "3",
         "Queens",
         "1741"
        ],
        [
         "4",
         "Staten Island",
         "72"
        ]
       ],
       "shape": {
        "columns": 2,
        "rows": 5
       }
      },
      "text/html": [
       "<div>\n",
       "<style scoped>\n",
       "    .dataframe tbody tr th:only-of-type {\n",
       "        vertical-align: middle;\n",
       "    }\n",
       "\n",
       "    .dataframe tbody tr th {\n",
       "        vertical-align: top;\n",
       "    }\n",
       "\n",
       "    .dataframe thead th {\n",
       "        text-align: right;\n",
       "    }\n",
       "</style>\n",
       "<table border=\"1\" class=\"dataframe\">\n",
       "  <thead>\n",
       "    <tr style=\"text-align: right;\">\n",
       "      <th></th>\n",
       "      <th>Borough</th>\n",
       "      <th>Unique_Events</th>\n",
       "    </tr>\n",
       "  </thead>\n",
       "  <tbody>\n",
       "    <tr>\n",
       "      <th>0</th>\n",
       "      <td>Bronx</td>\n",
       "      <td>394</td>\n",
       "    </tr>\n",
       "    <tr>\n",
       "      <th>1</th>\n",
       "      <td>Brooklyn</td>\n",
       "      <td>4192</td>\n",
       "    </tr>\n",
       "    <tr>\n",
       "      <th>2</th>\n",
       "      <td>Manhattan</td>\n",
       "      <td>6375</td>\n",
       "    </tr>\n",
       "    <tr>\n",
       "      <th>3</th>\n",
       "      <td>Queens</td>\n",
       "      <td>1741</td>\n",
       "    </tr>\n",
       "    <tr>\n",
       "      <th>4</th>\n",
       "      <td>Staten Island</td>\n",
       "      <td>72</td>\n",
       "    </tr>\n",
       "  </tbody>\n",
       "</table>\n",
       "</div>"
      ],
      "text/plain": [
       "         Borough  Unique_Events\n",
       "0          Bronx            394\n",
       "1       Brooklyn           4192\n",
       "2      Manhattan           6375\n",
       "3         Queens           1741\n",
       "4  Staten Island             72"
      ]
     },
     "metadata": {},
     "output_type": "display_data"
    },
    {
     "data": {
      "application/vnd.microsoft.datawrangler.viewer.v0+json": {
       "columns": [
        {
         "name": "index",
         "rawType": "int64",
         "type": "integer"
        },
        {
         "name": "Category",
         "rawType": "object",
         "type": "string"
        },
        {
         "name": "Unique_Events",
         "rawType": "int64",
         "type": "integer"
        }
       ],
       "ref": "3995cadb-f40b-46d3-adc0-ef2d98be0f86",
       "rows": [
        [
         "0",
         "Commercial",
         "1337"
        ],
        [
         "1",
         "Documentary",
         "114"
        ],
        [
         "2",
         "Film",
         "1671"
        ],
        [
         "3",
         "Music Video",
         "42"
        ],
        [
         "4",
         "Still Photography",
         "756"
        ],
        [
         "5",
         "Student",
         "76"
        ],
        [
         "6",
         "Television",
         "5686"
        ],
        [
         "7",
         "Theater",
         "2500"
        ],
        [
         "8",
         "WEB",
         "592"
        ]
       ],
       "shape": {
        "columns": 2,
        "rows": 9
       }
      },
      "text/html": [
       "<div>\n",
       "<style scoped>\n",
       "    .dataframe tbody tr th:only-of-type {\n",
       "        vertical-align: middle;\n",
       "    }\n",
       "\n",
       "    .dataframe tbody tr th {\n",
       "        vertical-align: top;\n",
       "    }\n",
       "\n",
       "    .dataframe thead th {\n",
       "        text-align: right;\n",
       "    }\n",
       "</style>\n",
       "<table border=\"1\" class=\"dataframe\">\n",
       "  <thead>\n",
       "    <tr style=\"text-align: right;\">\n",
       "      <th></th>\n",
       "      <th>Category</th>\n",
       "      <th>Unique_Events</th>\n",
       "    </tr>\n",
       "  </thead>\n",
       "  <tbody>\n",
       "    <tr>\n",
       "      <th>0</th>\n",
       "      <td>Commercial</td>\n",
       "      <td>1337</td>\n",
       "    </tr>\n",
       "    <tr>\n",
       "      <th>1</th>\n",
       "      <td>Documentary</td>\n",
       "      <td>114</td>\n",
       "    </tr>\n",
       "    <tr>\n",
       "      <th>2</th>\n",
       "      <td>Film</td>\n",
       "      <td>1671</td>\n",
       "    </tr>\n",
       "    <tr>\n",
       "      <th>3</th>\n",
       "      <td>Music Video</td>\n",
       "      <td>42</td>\n",
       "    </tr>\n",
       "    <tr>\n",
       "      <th>4</th>\n",
       "      <td>Still Photography</td>\n",
       "      <td>756</td>\n",
       "    </tr>\n",
       "    <tr>\n",
       "      <th>5</th>\n",
       "      <td>Student</td>\n",
       "      <td>76</td>\n",
       "    </tr>\n",
       "    <tr>\n",
       "      <th>6</th>\n",
       "      <td>Television</td>\n",
       "      <td>5686</td>\n",
       "    </tr>\n",
       "    <tr>\n",
       "      <th>7</th>\n",
       "      <td>Theater</td>\n",
       "      <td>2500</td>\n",
       "    </tr>\n",
       "    <tr>\n",
       "      <th>8</th>\n",
       "      <td>WEB</td>\n",
       "      <td>592</td>\n",
       "    </tr>\n",
       "  </tbody>\n",
       "</table>\n",
       "</div>"
      ],
      "text/plain": [
       "            Category  Unique_Events\n",
       "0         Commercial           1337\n",
       "1        Documentary            114\n",
       "2               Film           1671\n",
       "3        Music Video             42\n",
       "4  Still Photography            756\n",
       "5            Student             76\n",
       "6         Television           5686\n",
       "7            Theater           2500\n",
       "8                WEB            592"
      ]
     },
     "metadata": {},
     "output_type": "display_data"
    },
    {
     "data": {
      "application/vnd.microsoft.datawrangler.viewer.v0+json": {
       "columns": [
        {
         "name": "index",
         "rawType": "int64",
         "type": "integer"
        },
        {
         "name": "SubCategoryName",
         "rawType": "object",
         "type": "string"
        },
        {
         "name": "Unique_Events",
         "rawType": "int64",
         "type": "integer"
        }
       ],
       "ref": "66e14f1f-6c59-4db9-bc9c-08de565a1479",
       "rows": [
        [
         "0",
         "Cable-daily",
         "2"
        ],
        [
         "1",
         "Cable-episodic",
         "1290"
        ],
        [
         "2",
         "Cable-other",
         "25"
        ],
        [
         "3",
         "Children",
         "15"
        ],
        [
         "4",
         "Commercial",
         "1177"
        ],
        [
         "5",
         "Episodic series",
         "3538"
        ],
        [
         "6",
         "Feature",
         "1450"
        ],
        [
         "7",
         "Game show",
         "3"
        ],
        [
         "8",
         "Independent Artist",
         "4"
        ],
        [
         "9",
         "Industrial/Corporate",
         "43"
        ],
        [
         "10",
         "Made for TV/mini-series",
         "17"
        ],
        [
         "11",
         "Morning Show",
         "23"
        ],
        [
         "12",
         "News",
         "510"
        ],
        [
         "13",
         "Not Applicable",
         "1513"
        ],
        [
         "14",
         "PSA",
         "13"
        ],
        [
         "15",
         "Pilot",
         "22"
        ],
        [
         "16",
         "Promo",
         "101"
        ],
        [
         "17",
         "Reality",
         "49"
        ],
        [
         "18",
         "Short",
         "213"
        ],
        [
         "19",
         "Signed Artist",
         "36"
        ],
        [
         "20",
         "Special/Awards Show",
         "49"
        ],
        [
         "21",
         "Student Film",
         "61"
        ],
        [
         "22",
         "Talk Show",
         "21"
        ],
        [
         "23",
         "Theater",
         "2500"
        ],
        [
         "24",
         "Trailers",
         "3"
        ],
        [
         "25",
         "Variety",
         "96"
        ]
       ],
       "shape": {
        "columns": 2,
        "rows": 26
       }
      },
      "text/html": [
       "<div>\n",
       "<style scoped>\n",
       "    .dataframe tbody tr th:only-of-type {\n",
       "        vertical-align: middle;\n",
       "    }\n",
       "\n",
       "    .dataframe tbody tr th {\n",
       "        vertical-align: top;\n",
       "    }\n",
       "\n",
       "    .dataframe thead th {\n",
       "        text-align: right;\n",
       "    }\n",
       "</style>\n",
       "<table border=\"1\" class=\"dataframe\">\n",
       "  <thead>\n",
       "    <tr style=\"text-align: right;\">\n",
       "      <th></th>\n",
       "      <th>SubCategoryName</th>\n",
       "      <th>Unique_Events</th>\n",
       "    </tr>\n",
       "  </thead>\n",
       "  <tbody>\n",
       "    <tr>\n",
       "      <th>0</th>\n",
       "      <td>Cable-daily</td>\n",
       "      <td>2</td>\n",
       "    </tr>\n",
       "    <tr>\n",
       "      <th>1</th>\n",
       "      <td>Cable-episodic</td>\n",
       "      <td>1290</td>\n",
       "    </tr>\n",
       "    <tr>\n",
       "      <th>2</th>\n",
       "      <td>Cable-other</td>\n",
       "      <td>25</td>\n",
       "    </tr>\n",
       "    <tr>\n",
       "      <th>3</th>\n",
       "      <td>Children</td>\n",
       "      <td>15</td>\n",
       "    </tr>\n",
       "    <tr>\n",
       "      <th>4</th>\n",
       "      <td>Commercial</td>\n",
       "      <td>1177</td>\n",
       "    </tr>\n",
       "    <tr>\n",
       "      <th>5</th>\n",
       "      <td>Episodic series</td>\n",
       "      <td>3538</td>\n",
       "    </tr>\n",
       "    <tr>\n",
       "      <th>6</th>\n",
       "      <td>Feature</td>\n",
       "      <td>1450</td>\n",
       "    </tr>\n",
       "    <tr>\n",
       "      <th>7</th>\n",
       "      <td>Game show</td>\n",
       "      <td>3</td>\n",
       "    </tr>\n",
       "    <tr>\n",
       "      <th>8</th>\n",
       "      <td>Independent Artist</td>\n",
       "      <td>4</td>\n",
       "    </tr>\n",
       "    <tr>\n",
       "      <th>9</th>\n",
       "      <td>Industrial/Corporate</td>\n",
       "      <td>43</td>\n",
       "    </tr>\n",
       "    <tr>\n",
       "      <th>10</th>\n",
       "      <td>Made for TV/mini-series</td>\n",
       "      <td>17</td>\n",
       "    </tr>\n",
       "    <tr>\n",
       "      <th>11</th>\n",
       "      <td>Morning Show</td>\n",
       "      <td>23</td>\n",
       "    </tr>\n",
       "    <tr>\n",
       "      <th>12</th>\n",
       "      <td>News</td>\n",
       "      <td>510</td>\n",
       "    </tr>\n",
       "    <tr>\n",
       "      <th>13</th>\n",
       "      <td>Not Applicable</td>\n",
       "      <td>1513</td>\n",
       "    </tr>\n",
       "    <tr>\n",
       "      <th>14</th>\n",
       "      <td>PSA</td>\n",
       "      <td>13</td>\n",
       "    </tr>\n",
       "    <tr>\n",
       "      <th>15</th>\n",
       "      <td>Pilot</td>\n",
       "      <td>22</td>\n",
       "    </tr>\n",
       "    <tr>\n",
       "      <th>16</th>\n",
       "      <td>Promo</td>\n",
       "      <td>101</td>\n",
       "    </tr>\n",
       "    <tr>\n",
       "      <th>17</th>\n",
       "      <td>Reality</td>\n",
       "      <td>49</td>\n",
       "    </tr>\n",
       "    <tr>\n",
       "      <th>18</th>\n",
       "      <td>Short</td>\n",
       "      <td>213</td>\n",
       "    </tr>\n",
       "    <tr>\n",
       "      <th>19</th>\n",
       "      <td>Signed Artist</td>\n",
       "      <td>36</td>\n",
       "    </tr>\n",
       "    <tr>\n",
       "      <th>20</th>\n",
       "      <td>Special/Awards Show</td>\n",
       "      <td>49</td>\n",
       "    </tr>\n",
       "    <tr>\n",
       "      <th>21</th>\n",
       "      <td>Student Film</td>\n",
       "      <td>61</td>\n",
       "    </tr>\n",
       "    <tr>\n",
       "      <th>22</th>\n",
       "      <td>Talk Show</td>\n",
       "      <td>21</td>\n",
       "    </tr>\n",
       "    <tr>\n",
       "      <th>23</th>\n",
       "      <td>Theater</td>\n",
       "      <td>2500</td>\n",
       "    </tr>\n",
       "    <tr>\n",
       "      <th>24</th>\n",
       "      <td>Trailers</td>\n",
       "      <td>3</td>\n",
       "    </tr>\n",
       "    <tr>\n",
       "      <th>25</th>\n",
       "      <td>Variety</td>\n",
       "      <td>96</td>\n",
       "    </tr>\n",
       "  </tbody>\n",
       "</table>\n",
       "</div>"
      ],
      "text/plain": [
       "            SubCategoryName  Unique_Events\n",
       "0               Cable-daily              2\n",
       "1            Cable-episodic           1290\n",
       "2               Cable-other             25\n",
       "3                  Children             15\n",
       "4                Commercial           1177\n",
       "5           Episodic series           3538\n",
       "6                   Feature           1450\n",
       "7                 Game show              3\n",
       "8        Independent Artist              4\n",
       "9      Industrial/Corporate             43\n",
       "10  Made for TV/mini-series             17\n",
       "11             Morning Show             23\n",
       "12                     News            510\n",
       "13           Not Applicable           1513\n",
       "14                      PSA             13\n",
       "15                    Pilot             22\n",
       "16                    Promo            101\n",
       "17                  Reality             49\n",
       "18                    Short            213\n",
       "19            Signed Artist             36\n",
       "20      Special/Awards Show             49\n",
       "21             Student Film             61\n",
       "22                Talk Show             21\n",
       "23                  Theater           2500\n",
       "24                 Trailers              3\n",
       "25                  Variety             96"
      ]
     },
     "metadata": {},
     "output_type": "display_data"
    },
    {
     "data": {
      "image/png": "[encoded data removed]",
      "text/plain": [
       "<Figure size 800x500 with 1 Axes>"
      ]
     },
     "metadata": {},
     "output_type": "display_data"
    },
    {
     "data": {
      "image/png": "[encoded data removed]",
      "text/plain": [
       "<Figure size 1000x500 with 1 Axes>"
      ]
     },
     "metadata": {},
     "output_type": "display_data"
    },
    {
     "data": {
      "text/plain": [
       "([0, 1, 2, 3, 4, 5, 6, 7, 8, 9, 10, 11, 12, 13, 14],\n",
       " [Text(0, 0, 'Episodic series'),\n",
       "  Text(1, 0, 'Theater'),\n",
       "  Text(2, 0, 'Not Applicable'),\n",
       "  Text(3, 0, 'Feature'),\n",
       "  Text(4, 0, 'Cable-episodic'),\n",
       "  Text(5, 0, 'Commercial'),\n",
       "  Text(6, 0, 'News'),\n",
       "  Text(7, 0, 'Short'),\n",
       "  Text(8, 0, 'Promo'),\n",
       "  Text(9, 0, 'Variety'),\n",
       "  Text(10, 0, 'Student Film'),\n",
       "  Text(11, 0, 'Reality'),\n",
       "  Text(12, 0, 'Special/Awards Show'),\n",
       "  Text(13, 0, 'Industrial/Corporate'),\n",
       "  Text(14, 0, 'Signed Artist')])"
      ]
     },
     "execution_count": 15,
     "metadata": {},
     "output_type": "execute_result"
    },
    {
     "data": {
      "image/png": "[encoded data removed]",
      "text/plain": [
       "<Figure size 1200x600 with 1 Axes>"
      ]
     },
     "metadata": {},
     "output_type": "display_data"
    }
   ],
   "source": [
    "# Count unique EventID by SubCategoryName (renamed from SubCategory)\n",
    "film = film.rename(columns={'SubCategory': 'SubCategoryName'})\n",
    "\n",
    "# Count unique EventID by Borough\n",
    "borough_event_counts = film.groupby('Borough')['EventID'].nunique().reset_index(name='Unique_Events')\n",
    "display(borough_event_counts)\n",
    "\n",
    "# Count unique EventID by Category\n",
    "category_event_counts = film.groupby('Category')['EventID'].nunique().reset_index(name='Unique_Events')\n",
    "display(category_event_counts)\n",
    "\n",
    "# Count unique EventID by SubCategoryName\n",
    "subcategory_event_counts = film.groupby('SubCategoryName')['EventID'].nunique().reset_index(name='Unique_Events')\n",
    "display(subcategory_event_counts)\n",
    "\n",
    "# Bar plot: Unique Events by Borough\n",
    "plt.figure(figsize=(8, 5))\n",
    "plt.bar(borough_event_counts['Borough'], borough_event_counts['Unique_Events'], color='skyblue')\n",
    "plt.title('Unique Events by Borough')\n",
    "plt.xlabel('Borough')\n",
    "plt.ylabel('Unique EventID Count')\n",
    "plt.xticks(rotation=30)\n",
    "plt.tight_layout()\n",
    "plt.show()\n",
    "\n",
    "# Bar plot: Unique Events by Category\n",
    "plt.figure(figsize=(10, 5))\n",
    "plt.bar(category_event_counts['Category'], category_event_counts['Unique_Events'], color='orange')\n",
    "plt.title('Unique Events by Category')\n",
    "plt.xlabel('Category')\n",
    "plt.ylabel('Unique EventID Count')\n",
    "plt.xticks(rotation=45, ha='right')\n",
    "plt.tight_layout()\n",
    "plt.show()\n",
    "\n",
    "# Bar plot: Unique Events by SubCategoryName (top 15 for readability)\n",
    "top_subcats = subcategory_event_counts.sort_values('Unique_Events', ascending=False).head(15)\n",
    "plt.figure(figsize=(12, 6))\n",
    "plt.bar(top_subcats['SubCategoryName'], top_subcats['Unique_Events'], color='green')\n",
    "plt.title('Top 15 SubCategoryNames by Unique EventID Count')\n",
    "plt.xlabel('SubCategoryName')\n",
    "plt.ylabel('Unique EventID Count')\n",
    "plt.xticks(rotation=60, ha='right')"
   ]
  },
  {
   "cell_type": "code",
   "execution_count": 22,
   "id": "e406cbaf",
   "metadata": {},
   "outputs": [
    {
     "data": {
      "application/vnd.plotly.v1+json": {
       "config": {
        "plotlyServerURL": "https://plot.ly"
       },
       "data": [
        {
         "alignmentgroup": "True",
         "hovertemplate": "Borough=%{x}<br>Unique EventID Count=%{y}<extra></extra>",
         "legendgroup": "",
         "marker": {
          "color": "#636efa",
          "pattern": {
           "shape": ""
          }
         },
         "name": "",
         "offsetgroup": "",
         "orientation": "v",
         "showlegend": false,
         "textposition": "auto",
         "type": "bar",
         "x": [
          "Bronx",
          "Brooklyn",
          "Manhattan",
          "Queens",
          "Staten Island"
         ],
         "xaxis": "x",
         "y": [
          44,
          544,
          822,
          233,
          7
         ],
         "yaxis": "y"
        }
       ],
       "layout": {
        "barmode": "relative",
        "legend": {
         "tracegroupgap": 0
        },
        "template": {
         "data": {
          "bar": [
           {
            "error_x": {
             "color": "#2a3f5f"
            },
            "error_y": {
             "color": "#2a3f5f"
            },
            "marker": {
             "line": {
              "color": "#E5ECF6",
              "width": 0.5
             },
             "pattern": {
              "fillmode": "overlay",
              "size": 10,
              "solidity": 0.2
             }
            },
            "type": "bar"
           }
          ],
          "barpolar": [
           {
            "marker": {
             "line": {
              "color": "#E5ECF6",
              "width": 0.5
             },
             "pattern": {
              "fillmode": "overlay",
              "size": 10,
              "solidity": 0.2
             }
            },
            "type": "barpolar"
           }
          ],
          "carpet": [
           {
            "aaxis": {
             "endlinecolor": "#2a3f5f",
             "gridcolor": "white",
             "linecolor": "white",
             "minorgridcolor": "white",
             "startlinecolor": "#2a3f5f"
            },
            "baxis": {
             "endlinecolor": "#2a3f5f",
             "gridcolor": "white",
             "linecolor": "white",
             "minorgridcolor": "white",
             "startlinecolor": "#2a3f5f"
            },
            "type": "carpet"
           }
          ],
          "choropleth": [
           {
            "colorbar": {
             "outlinewidth": 0,
             "ticks": ""
            },
            "type": "choropleth"
           }
          ],
          "contour": [
           {
            "colorbar": {
             "outlinewidth": 0,
             "ticks": ""
            },
            "colorscale": [
             [
              0,
              "#0d0887"
             ],
             [
              0.1111111111111111,
              "#46039f"
             ],
             [
              0.2222222222222222,
              "#7201a8"
             ],
             [
              0.3333333333333333,
              "#9c179e"
             ],
             [
              0.4444444444444444,
              "#bd3786"
             ],
             [
              0.5555555555555556,
              "#d8576b"
             ],
             [
              0.6666666666666666,
              "#ed7953"
             ],
             [
              0.7777777777777778,
              "#fb9f3a"
             ],
             [
              0.8888888888888888,
              "#fdca26"
             ],
             [
              1,
              "#f0f921"
             ]
            ],
            "type": "contour"
           }
          ],
          "contourcarpet": [
           {
            "colorbar": {
             "outlinewidth": 0,
             "ticks": ""
            },
            "type": "contourcarpet"
           }
          ],
          "heatmap": [
           {
            "colorbar": {
             "outlinewidth": 0,
             "ticks": ""
            },
            "colorscale": [
             [
              0,
              "#0d0887"
             ],
             [
              0.1111111111111111,
              "#46039f"
             ],
             [
              0.2222222222222222,
              "#7201a8"
             ],
             [
              0.3333333333333333,
              "#9c179e"
             ],
             [
              0.4444444444444444,
              "#bd3786"
             ],
             [
              0.5555555555555556,
              "#d8576b"
             ],
             [
              0.6666666666666666,
              "#ed7953"
             ],
             [
              0.7777777777777778,
              "#fb9f3a"
             ],
             [
              0.8888888888888888,
              "#fdca26"
             ],
             [
              1,
              "#f0f921"
             ]
            ],
            "type": "heatmap"
           }
          ],
          "heatmapgl": [
           {
            "colorbar": {
             "outlinewidth": 0,
             "ticks": ""
            },
            "colorscale": [
             [
              0,
              "#0d0887"
             ],
             [
              0.1111111111111111,
              "#46039f"
             ],
             [
              0.2222222222222222,
              "#7201a8"
             ],
             [
              0.3333333333333333,
              "#9c179e"
             ],
             [
              0.4444444444444444,
              "#bd3786"
             ],
             [
              0.5555555555555556,
              "#d8576b"
             ],
             [
              0.6666666666666666,
              "#ed7953"
             ],
             [
              0.7777777777777778,
              "#fb9f3a"
             ],
             [
              0.8888888888888888,
              "#fdca26"
             ],
             [
              1,
              "#f0f921"
             ]
            ],
            "type": "heatmapgl"
           }
          ],
          "histogram": [
           {
            "marker": {
             "pattern": {
              "fillmode": "overlay",
              "size": 10,
              "solidity": 0.2
             }
            },
            "type": "histogram"
           }
          ],
          "histogram2d": [
           {
            "colorbar": {
             "outlinewidth": 0,
             "ticks": ""
            },
            "colorscale": [
             [
              0,
              "#0d0887"
             ],
             [
              0.1111111111111111,
              "#46039f"
             ],
             [
              0.2222222222222222,
              "#7201a8"
             ],
             [
              0.3333333333333333,
              "#9c179e"
             ],
             [
              0.4444444444444444,
              "#bd3786"
             ],
             [
              0.5555555555555556,
              "#d8576b"
             ],
             [
              0.6666666666666666,
              "#ed7953"
             ],
             [
              0.7777777777777778,
              "#fb9f3a"
             ],
             [
              0.8888888888888888,
              "#fdca26"
             ],
             [
              1,
              "#f0f921"
             ]
            ],
            "type": "histogram2d"
           }
          ],
          "histogram2dcontour": [
           {
            "colorbar": {
             "outlinewidth": 0,
             "ticks": ""
            },
            "colorscale": [
             [
              0,
              "#0d0887"
             ],
             [
              0.1111111111111111,
              "#46039f"
             ],
             [
              0.2222222222222222,
              "#7201a8"
             ],
             [
              0.3333333333333333,
              "#9c179e"
             ],
             [
              0.4444444444444444,
              "#bd3786"
             ],
             [
              0.5555555555555556,
              "#d8576b"
             ],
             [
              0.6666666666666666,
              "#ed7953"
             ],
             [
              0.7777777777777778,
              "#fb9f3a"
             ],
             [
              0.8888888888888888,
              "#fdca26"
             ],
             [
              1,
              "#f0f921"
             ]
            ],
            "type": "histogram2dcontour"
           }
          ],
          "mesh3d": [
           {
            "colorbar": {
             "outlinewidth": 0,
             "ticks": ""
            },
            "type": "mesh3d"
           }
          ],
          "parcoords": [
           {
            "line": {
             "colorbar": {
              "outlinewidth": 0,
              "ticks": ""
             }
            },
            "type": "parcoords"
           }
          ],
          "pie": [
           {
            "automargin": true,
            "type": "pie"
           }
          ],
          "scatter": [
           {
            "fillpattern": {
             "fillmode": "overlay",
             "size": 10,
             "solidity": 0.2
            },
            "type": "scatter"
           }
          ],
          "scatter3d": [
           {
            "line": {
             "colorbar": {
              "outlinewidth": 0,
              "ticks": ""
             }
            },
            "marker": {
             "colorbar": {
              "outlinewidth": 0,
              "ticks": ""
             }
            },
            "type": "scatter3d"
           }
          ],
          "scattercarpet": [
           {
            "marker": {
             "colorbar": {
              "outlinewidth": 0,
              "ticks": ""
             }
            },
            "type": "scattercarpet"
           }
          ],
          "scattergeo": [
           {
            "marker": {
             "colorbar": {
              "outlinewidth": 0,
              "ticks": ""
             }
            },
            "type": "scattergeo"
           }
          ],
          "scattergl": [
           {
            "marker": {
             "colorbar": {
              "outlinewidth": 0,
              "ticks": ""
             }
            },
            "type": "scattergl"
           }
          ],
          "scattermapbox": [
           {
            "marker": {
             "colorbar": {
              "outlinewidth": 0,
              "ticks": ""
             }
            },
            "type": "scattermapbox"
           }
          ],
          "scatterpolar": [
           {
            "marker": {
             "colorbar": {
              "outlinewidth": 0,
              "ticks": ""
             }
            },
            "type": "scatterpolar"
           }
          ],
          "scatterpolargl": [
           {
            "marker": {
             "colorbar": {
              "outlinewidth": 0,
              "ticks": ""
             }
            },
            "type": "scatterpolargl"
           }
          ],
          "scatterternary": [
           {
            "marker": {
             "colorbar": {
              "outlinewidth": 0,
              "ticks": ""
             }
            },
            "type": "scatterternary"
           }
          ],
          "surface": [
           {
            "colorbar": {
             "outlinewidth": 0,
             "ticks": ""
            },
            "colorscale": [
             [
              0,
              "#0d0887"
             ],
             [
              0.1111111111111111,
              "#46039f"
             ],
             [
              0.2222222222222222,
              "#7201a8"
             ],
             [
              0.3333333333333333,
              "#9c179e"
             ],
             [
              0.4444444444444444,
              "#bd3786"
             ],
             [
              0.5555555555555556,
              "#d8576b"
             ],
             [
              0.6666666666666666,
              "#ed7953"
             ],
             [
              0.7777777777777778,
              "#fb9f3a"
             ],
             [
              0.8888888888888888,
              "#fdca26"
             ],
             [
              1,
              "#f0f921"
             ]
            ],
            "type": "surface"
           }
          ],
          "table": [
           {
            "cells": {
             "fill": {
              "color": "#EBF0F8"
             },
             "line": {
              "color": "white"
             }
            },
            "header": {
             "fill": {
              "color": "#C8D4E3"
             },
             "line": {
              "color": "white"
             }
            },
            "type": "table"
           }
          ]
         },
         "layout": {
          "annotationdefaults": {
           "arrowcolor": "#2a3f5f",
           "arrowhead": 0,
           "arrowwidth": 1
          },
          "autotypenumbers": "strict",
          "coloraxis": {
           "colorbar": {
            "outlinewidth": 0,
            "ticks": ""
           }
          },
          "colorscale": {
           "diverging": [
            [
             0,
             "#8e0152"
            ],
            [
             0.1,
             "#c51b7d"
            ],
            [
             0.2,
             "#de77ae"
            ],
            [
             0.3,
             "#f1b6da"
            ],
            [
             0.4,
             "#fde0ef"
            ],
            [
             0.5,
             "#f7f7f7"
            ],
            [
             0.6,
             "#e6f5d0"
            ],
            [
             0.7,
             "#b8e186"
            ],
            [
             0.8,
             "#7fbc41"
            ],
            [
             0.9,
             "#4d9221"
            ],
            [
             1,
             "#276419"
            ]
           ],
           "sequential": [
            [
             0,
             "#0d0887"
            ],
            [
             0.1111111111111111,
             "#46039f"
            ],
            [
             0.2222222222222222,
             "#7201a8"
            ],
            [
             0.3333333333333333,
             "#9c179e"
            ],
            [
             0.4444444444444444,
             "#bd3786"
            ],
            [
             0.5555555555555556,
             "#d8576b"
            ],
            [
             0.6666666666666666,
             "#ed7953"
            ],
            [
             0.7777777777777778,
             "#fb9f3a"
            ],
            [
             0.8888888888888888,
             "#fdca26"
            ],
            [
             1,
             "#f0f921"
            ]
           ],
           "sequentialminus": [
            [
             0,
             "#0d0887"
            ],
            [
             0.1111111111111111,
             "#46039f"
            ],
            [
             0.2222222222222222,
             "#7201a8"
            ],
            [
             0.3333333333333333,
             "#9c179e"
            ],
            [
             0.4444444444444444,
             "#bd3786"
            ],
            [
             0.5555555555555556,
             "#d8576b"
            ],
            [
             0.6666666666666666,
             "#ed7953"
            ],
            [
             0.7777777777777778,
             "#fb9f3a"
            ],
            [
             0.8888888888888888,
             "#fdca26"
            ],
            [
             1,
             "#f0f921"
            ]
           ]
          },
          "colorway": [
           "#636efa",
           "#EF553B",
           "#00cc96",
           "#ab63fa",
           "#FFA15A",
           "#19d3f3",
           "#FF6692",
           "#B6E880",
           "#FF97FF",
           "#FECB52"
          ],
          "font": {
           "color": "#2a3f5f"
          },
          "geo": {
           "bgcolor": "white",
           "lakecolor": "white",
           "landcolor": "#E5ECF6",
           "showlakes": true,
           "showland": true,
           "subunitcolor": "white"
          },
          "hoverlabel": {
           "align": "left"
          },
          "hovermode": "closest",
          "mapbox": {
           "style": "light"
          },
          "paper_bgcolor": "white",
          "plot_bgcolor": "#E5ECF6",
          "polar": {
           "angularaxis": {
            "gridcolor": "white",
            "linecolor": "white",
            "ticks": ""
           },
           "bgcolor": "#E5ECF6",
           "radialaxis": {
            "gridcolor": "white",
            "linecolor": "white",
            "ticks": ""
           }
          },
          "scene": {
           "xaxis": {
            "backgroundcolor": "#E5ECF6",
            "gridcolor": "white",
            "gridwidth": 2,
            "linecolor": "white",
            "showbackground": true,
            "ticks": "",
            "zerolinecolor": "white"
           },
           "yaxis": {
            "backgroundcolor": "#E5ECF6",
            "gridcolor": "white",
            "gridwidth": 2,
            "linecolor": "white",
            "showbackground": true,
            "ticks": "",
            "zerolinecolor": "white"
           },
           "zaxis": {
            "backgroundcolor": "#E5ECF6",
            "gridcolor": "white",
            "gridwidth": 2,
            "linecolor": "white",
            "showbackground": true,
            "ticks": "",
            "zerolinecolor": "white"
           }
          },
          "shapedefaults": {
           "line": {
            "color": "#2a3f5f"
           }
          },
          "ternary": {
           "aaxis": {
            "gridcolor": "white",
            "linecolor": "white",
            "ticks": ""
           },
           "baxis": {
            "gridcolor": "white",
            "linecolor": "white",
            "ticks": ""
           },
           "bgcolor": "#E5ECF6",
           "caxis": {
            "gridcolor": "white",
            "linecolor": "white",
            "ticks": ""
           }
          },
          "title": {
           "x": 0.05
          },
          "xaxis": {
           "automargin": true,
           "gridcolor": "white",
           "linecolor": "white",
           "ticks": "",
           "title": {
            "standoff": 15
           },
           "zerolinecolor": "white",
           "zerolinewidth": 2
          },
          "yaxis": {
           "automargin": true,
           "gridcolor": "white",
           "linecolor": "white",
           "ticks": "",
           "title": {
            "standoff": 15
           },
           "zerolinecolor": "white",
           "zerolinewidth": 2
          }
         }
        },
        "title": {
         "text": "Unique Events by Borough (2025)"
        },
        "xaxis": {
         "anchor": "y",
         "domain": [
          0,
          1
         ],
         "title": {
          "text": "Borough"
         }
        },
        "yaxis": {
         "anchor": "x",
         "domain": [
          0,
          1
         ],
         "title": {
          "text": "Unique EventID Count"
         }
        }
       }
      }
     },
     "metadata": {},
     "output_type": "display_data"
    },
    {
     "data": {
      "application/vnd.plotly.v1+json": {
       "config": {
        "plotlyServerURL": "https://plot.ly"
       },
       "data": [
        {
         "alignmentgroup": "True",
         "hovertemplate": "Category=%{x}<br>Unique EventID Count=%{y}<extra></extra>",
         "legendgroup": "",
         "marker": {
          "color": "#636efa",
          "pattern": {
           "shape": ""
          }
         },
         "name": "",
         "offsetgroup": "",
         "orientation": "v",
         "showlegend": false,
         "textposition": "auto",
         "type": "bar",
         "x": [
          "Commercial",
          "Documentary",
          "Film",
          "Music Video",
          "Still Photography",
          "Student",
          "Television",
          "Theater",
          "WEB"
         ],
         "xaxis": "x",
         "y": [
          183,
          23,
          231,
          3,
          77,
          22,
          690,
          348,
          73
         ],
         "yaxis": "y"
        }
       ],
       "layout": {
        "barmode": "relative",
        "legend": {
         "tracegroupgap": 0
        },
        "template": {
         "data": {
          "bar": [
           {
            "error_x": {
             "color": "#2a3f5f"
            },
            "error_y": {
             "color": "#2a3f5f"
            },
            "marker": {
             "line": {
              "color": "#E5ECF6",
              "width": 0.5
             },
             "pattern": {
              "fillmode": "overlay",
              "size": 10,
              "solidity": 0.2
             }
            },
            "type": "bar"
           }
          ],
          "barpolar": [
           {
            "marker": {
             "line": {
              "color": "#E5ECF6",
              "width": 0.5
             },
             "pattern": {
              "fillmode": "overlay",
              "size": 10,
              "solidity": 0.2
             }
            },
            "type": "barpolar"
           }
          ],
          "carpet": [
           {
            "aaxis": {
             "endlinecolor": "#2a3f5f",
             "gridcolor": "white",
             "linecolor": "white",
             "minorgridcolor": "white",
             "startlinecolor": "#2a3f5f"
            },
            "baxis": {
             "endlinecolor": "#2a3f5f",
             "gridcolor": "white",
             "linecolor": "white",
             "minorgridcolor": "white",
             "startlinecolor": "#2a3f5f"
            },
            "type": "carpet"
           }
          ],
          "choropleth": [
           {
            "colorbar": {
             "outlinewidth": 0,
             "ticks": ""
            },
            "type": "choropleth"
           }
          ],
          "contour": [
           {
            "colorbar": {
             "outlinewidth": 0,
             "ticks": ""
            },
            "colorscale": [
             [
              0,
              "#0d0887"
             ],
             [
              0.1111111111111111,
              "#46039f"
             ],
             [
              0.2222222222222222,
              "#7201a8"
             ],
             [
              0.3333333333333333,
              "#9c179e"
             ],
             [
              0.4444444444444444,
              "#bd3786"
             ],
             [
              0.5555555555555556,
              "#d8576b"
             ],
             [
              0.6666666666666666,
              "#ed7953"
             ],
             [
              0.7777777777777778,
              "#fb9f3a"
             ],
             [
              0.8888888888888888,
              "#fdca26"
             ],
             [
              1,
              "#f0f921"
             ]
            ],
            "type": "contour"
           }
          ],
          "contourcarpet": [
           {
            "colorbar": {
             "outlinewidth": 0,
             "ticks": ""
            },
            "type": "contourcarpet"
           }
          ],
          "heatmap": [
           {
            "colorbar": {
             "outlinewidth": 0,
             "ticks": ""
            },
            "colorscale": [
             [
              0,
              "#0d0887"
             ],
             [
              0.1111111111111111,
              "#46039f"
             ],
             [
              0.2222222222222222,
              "#7201a8"
             ],
             [
              0.3333333333333333,
              "#9c179e"
             ],
             [
              0.4444444444444444,
              "#bd3786"
             ],
             [
              0.5555555555555556,
              "#d8576b"
             ],
             [
              0.6666666666666666,
              "#ed7953"
             ],
             [
              0.7777777777777778,
              "#fb9f3a"
             ],
             [
              0.8888888888888888,
              "#fdca26"
             ],
             [
              1,
              "#f0f921"
             ]
            ],
            "type": "heatmap"
           }
          ],
          "heatmapgl": [
           {
            "colorbar": {
             "outlinewidth": 0,
             "ticks": ""
            },
            "colorscale": [
             [
              0,
              "#0d0887"
             ],
             [
              0.1111111111111111,
              "#46039f"
             ],
             [
              0.2222222222222222,
              "#7201a8"
             ],
             [
              0.3333333333333333,
              "#9c179e"
             ],
             [
              0.4444444444444444,
              "#bd3786"
             ],
             [
              0.5555555555555556,
              "#d8576b"
             ],
             [
              0.6666666666666666,
              "#ed7953"
             ],
             [
              0.7777777777777778,
              "#fb9f3a"
             ],
             [
              0.8888888888888888,
              "#fdca26"
             ],
             [
              1,
              "#f0f921"
             ]
            ],
            "type": "heatmapgl"
           }
          ],
          "histogram": [
           {
            "marker": {
             "pattern": {
              "fillmode": "overlay",
              "size": 10,
              "solidity": 0.2
             }
            },
            "type": "histogram"
           }
          ],
          "histogram2d": [
           {
            "colorbar": {
             "outlinewidth": 0,
             "ticks": ""
            },
            "colorscale": [
             [
              0,
              "#0d0887"
             ],
             [
              0.1111111111111111,
              "#46039f"
             ],
             [
              0.2222222222222222,
              "#7201a8"
             ],
             [
              0.3333333333333333,
              "#9c179e"
             ],
             [
              0.4444444444444444,
              "#bd3786"
             ],
             [
              0.5555555555555556,
              "#d8576b"
             ],
             [
              0.6666666666666666,
              "#ed7953"
             ],
             [
              0.7777777777777778,
              "#fb9f3a"
             ],
             [
              0.8888888888888888,
              "#fdca26"
             ],
             [
              1,
              "#f0f921"
             ]
            ],
            "type": "histogram2d"
           }
          ],
          "histogram2dcontour": [
           {
            "colorbar": {
             "outlinewidth": 0,
             "ticks": ""
            },
            "colorscale": [
             [
              0,
              "#0d0887"
             ],
             [
              0.1111111111111111,
              "#46039f"
             ],
             [
              0.2222222222222222,
              "#7201a8"
             ],
             [
              0.3333333333333333,
              "#9c179e"
             ],
             [
              0.4444444444444444,
              "#bd3786"
             ],
             [
              0.5555555555555556,
              "#d8576b"
             ],
             [
              0.6666666666666666,
              "#ed7953"
             ],
             [
              0.7777777777777778,
              "#fb9f3a"
             ],
             [
              0.8888888888888888,
              "#fdca26"
             ],
             [
              1,
              "#f0f921"
             ]
            ],
            "type": "histogram2dcontour"
           }
          ],
          "mesh3d": [
           {
            "colorbar": {
             "outlinewidth": 0,
             "ticks": ""
            },
            "type": "mesh3d"
           }
          ],
          "parcoords": [
           {
            "line": {
             "colorbar": {
              "outlinewidth": 0,
              "ticks": ""
             }
            },
            "type": "parcoords"
           }
          ],
          "pie": [
           {
            "automargin": true,
            "type": "pie"
           }
          ],
          "scatter": [
           {
            "fillpattern": {
             "fillmode": "overlay",
             "size": 10,
             "solidity": 0.2
            },
            "type": "scatter"
           }
          ],
          "scatter3d": [
           {
            "line": {
             "colorbar": {
              "outlinewidth": 0,
              "ticks": ""
             }
            },
            "marker": {
             "colorbar": {
              "outlinewidth": 0,
              "ticks": ""
             }
            },
            "type": "scatter3d"
           }
          ],
          "scattercarpet": [
           {
            "marker": {
             "colorbar": {
              "outlinewidth": 0,
              "ticks": ""
             }
            },
            "type": "scattercarpet"
           }
          ],
          "scattergeo": [
           {
            "marker": {
             "colorbar": {
              "outlinewidth": 0,
              "ticks": ""
             }
            },
            "type": "scattergeo"
           }
          ],
          "scattergl": [
           {
            "marker": {
             "colorbar": {
              "outlinewidth": 0,
              "ticks": ""
             }
            },
            "type": "scattergl"
           }
          ],
          "scattermapbox": [
           {
            "marker": {
             "colorbar": {
              "outlinewidth": 0,
              "ticks": ""
             }
            },
            "type": "scattermapbox"
           }
          ],
          "scatterpolar": [
           {
            "marker": {
             "colorbar": {
              "outlinewidth": 0,
              "ticks": ""
             }
            },
            "type": "scatterpolar"
           }
          ],
          "scatterpolargl": [
           {
            "marker": {
             "colorbar": {
              "outlinewidth": 0,
              "ticks": ""
             }
            },
            "type": "scatterpolargl"
           }
          ],
          "scatterternary": [
           {
            "marker": {
             "colorbar": {
              "outlinewidth": 0,
              "ticks": ""
             }
            },
            "type": "scatterternary"
           }
          ],
          "surface": [
           {
            "colorbar": {
             "outlinewidth": 0,
             "ticks": ""
            },
            "colorscale": [
             [
              0,
              "#0d0887"
             ],
             [
              0.1111111111111111,
              "#46039f"
             ],
             [
              0.2222222222222222,
              "#7201a8"
             ],
             [
              0.3333333333333333,
              "#9c179e"
             ],
             [
              0.4444444444444444,
              "#bd3786"
             ],
             [
              0.5555555555555556,
              "#d8576b"
             ],
             [
              0.6666666666666666,
              "#ed7953"
             ],
             [
              0.7777777777777778,
              "#fb9f3a"
             ],
             [
              0.8888888888888888,
              "#fdca26"
             ],
             [
              1,
              "#f0f921"
             ]
            ],
            "type": "surface"
           }
          ],
          "table": [
           {
            "cells": {
             "fill": {
              "color": "#EBF0F8"
             },
             "line": {
              "color": "white"
             }
            },
            "header": {
             "fill": {
              "color": "#C8D4E3"
             },
             "line": {
              "color": "white"
             }
            },
            "type": "table"
           }
          ]
         },
         "layout": {
          "annotationdefaults": {
           "arrowcolor": "#2a3f5f",
           "arrowhead": 0,
           "arrowwidth": 1
          },
          "autotypenumbers": "strict",
          "coloraxis": {
           "colorbar": {
            "outlinewidth": 0,
            "ticks": ""
           }
          },
          "colorscale": {
           "diverging": [
            [
             0,
             "#8e0152"
            ],
            [
             0.1,
             "#c51b7d"
            ],
            [
             0.2,
             "#de77ae"
            ],
            [
             0.3,
             "#f1b6da"
            ],
            [
             0.4,
             "#fde0ef"
            ],
            [
             0.5,
             "#f7f7f7"
            ],
            [
             0.6,
             "#e6f5d0"
            ],
            [
             0.7,
             "#b8e186"
            ],
            [
             0.8,
             "#7fbc41"
            ],
            [
             0.9,
             "#4d9221"
            ],
            [
             1,
             "#276419"
            ]
           ],
           "sequential": [
            [
             0,
             "#0d0887"
            ],
            [
             0.1111111111111111,
             "#46039f"
            ],
            [
             0.2222222222222222,
             "#7201a8"
            ],
            [
             0.3333333333333333,
             "#9c179e"
            ],
            [
             0.4444444444444444,
             "#bd3786"
            ],
            [
             0.5555555555555556,
             "#d8576b"
            ],
            [
             0.6666666666666666,
             "#ed7953"
            ],
            [
             0.7777777777777778,
             "#fb9f3a"
            ],
            [
             0.8888888888888888,
             "#fdca26"
            ],
            [
             1,
             "#f0f921"
            ]
           ],
           "sequentialminus": [
            [
             0,
             "#0d0887"
            ],
            [
             0.1111111111111111,
             "#46039f"
            ],
            [
             0.2222222222222222,
             "#7201a8"
            ],
            [
             0.3333333333333333,
             "#9c179e"
            ],
            [
             0.4444444444444444,
             "#bd3786"
            ],
            [
             0.5555555555555556,
             "#d8576b"
            ],
            [
             0.6666666666666666,
             "#ed7953"
            ],
            [
             0.7777777777777778,
             "#fb9f3a"
            ],
            [
             0.8888888888888888,
             "#fdca26"
            ],
            [
             1,
             "#f0f921"
            ]
           ]
          },
          "colorway": [
           "#636efa",
           "#EF553B",
           "#00cc96",
           "#ab63fa",
           "#FFA15A",
           "#19d3f3",
           "#FF6692",
           "#B6E880",
           "#FF97FF",
           "#FECB52"
          ],
          "font": {
           "color": "#2a3f5f"
          },
          "geo": {
           "bgcolor": "white",
           "lakecolor": "white",
           "landcolor": "#E5ECF6",
           "showlakes": true,
           "showland": true,
           "subunitcolor": "white"
          },
          "hoverlabel": {
           "align": "left"
          },
          "hovermode": "closest",
          "mapbox": {
           "style": "light"
          },
          "paper_bgcolor": "white",
          "plot_bgcolor": "#E5ECF6",
          "polar": {
           "angularaxis": {
            "gridcolor": "white",
            "linecolor": "white",
            "ticks": ""
           },
           "bgcolor": "#E5ECF6",
           "radialaxis": {
            "gridcolor": "white",
            "linecolor": "white",
            "ticks": ""
           }
          },
          "scene": {
           "xaxis": {
            "backgroundcolor": "#E5ECF6",
            "gridcolor": "white",
            "gridwidth": 2,
            "linecolor": "white",
            "showbackground": true,
            "ticks": "",
            "zerolinecolor": "white"
           },
           "yaxis": {
            "backgroundcolor": "#E5ECF6",
            "gridcolor": "white",
            "gridwidth": 2,
            "linecolor": "white",
            "showbackground": true,
            "ticks": "",
            "zerolinecolor": "white"
           },
           "zaxis": {
            "backgroundcolor": "#E5ECF6",
            "gridcolor": "white",
            "gridwidth": 2,
            "linecolor": "white",
            "showbackground": true,
            "ticks": "",
            "zerolinecolor": "white"
           }
          },
          "shapedefaults": {
           "line": {
            "color": "#2a3f5f"
           }
          },
          "ternary": {
           "aaxis": {
            "gridcolor": "white",
            "linecolor": "white",
            "ticks": ""
           },
           "baxis": {
            "gridcolor": "white",
            "linecolor": "white",
            "ticks": ""
           },
           "bgcolor": "#E5ECF6",
           "caxis": {
            "gridcolor": "white",
            "linecolor": "white",
            "ticks": ""
           }
          },
          "title": {
           "x": 0.05
          },
          "xaxis": {
           "automargin": true,
           "gridcolor": "white",
           "linecolor": "white",
           "ticks": "",
           "title": {
            "standoff": 15
           },
           "zerolinecolor": "white",
           "zerolinewidth": 2
          },
          "yaxis": {
           "automargin": true,
           "gridcolor": "white",
           "linecolor": "white",
           "ticks": "",
           "title": {
            "standoff": 15
           },
           "zerolinecolor": "white",
           "zerolinewidth": 2
          }
         }
        },
        "title": {
         "text": "Unique Events by Category (2025)"
        },
        "xaxis": {
         "anchor": "y",
         "domain": [
          0,
          1
         ],
         "tickangle": 45,
         "title": {
          "text": "Category"
         }
        },
        "yaxis": {
         "anchor": "x",
         "domain": [
          0,
          1
         ],
         "title": {
          "text": "Unique EventID Count"
         }
        }
       }
      }
     },
     "metadata": {},
     "output_type": "display_data"
    },
    {
     "data": {
      "application/vnd.plotly.v1+json": {
       "config": {
        "plotlyServerURL": "https://plot.ly"
       },
       "data": [
        {
         "alignmentgroup": "True",
         "hovertemplate": "SubCategoryName=%{x}<br>Unique EventID Count=%{y}<extra></extra>",
         "legendgroup": "",
         "marker": {
          "color": "#636efa",
          "pattern": {
           "shape": ""
          }
         },
         "name": "",
         "offsetgroup": "",
         "orientation": "v",
         "showlegend": false,
         "textposition": "auto",
         "type": "bar",
         "x": [
          "Theater",
          "Episodic series",
          "Cable-episodic",
          "Feature",
          "Not Applicable",
          "Commercial",
          "News",
          "Short",
          "Student Film",
          "Variety",
          "Industrial/Corporate",
          "Promo",
          "Special/Awards Show",
          "Made for TV/mini-series",
          "Reality"
         ],
         "xaxis": "x",
         "y": [
          348,
          334,
          259,
          206,
          178,
          162,
          51,
          25,
          22,
          11,
          11,
          10,
          7,
          7,
          5
         ],
         "yaxis": "y"
        }
       ],
       "layout": {
        "barmode": "relative",
        "legend": {
         "tracegroupgap": 0
        },
        "template": {
         "data": {
          "bar": [
           {
            "error_x": {
             "color": "#2a3f5f"
            },
            "error_y": {
             "color": "#2a3f5f"
            },
            "marker": {
             "line": {
              "color": "#E5ECF6",
              "width": 0.5
             },
             "pattern": {
              "fillmode": "overlay",
              "size": 10,
              "solidity": 0.2
             }
            },
            "type": "bar"
           }
          ],
          "barpolar": [
           {
            "marker": {
             "line": {
              "color": "#E5ECF6",
              "width": 0.5
             },
             "pattern": {
              "fillmode": "overlay",
              "size": 10,
              "solidity": 0.2
             }
            },
            "type": "barpolar"
           }
          ],
          "carpet": [
           {
            "aaxis": {
             "endlinecolor": "#2a3f5f",
             "gridcolor": "white",
             "linecolor": "white",
             "minorgridcolor": "white",
             "startlinecolor": "#2a3f5f"
            },
            "baxis": {
             "endlinecolor": "#2a3f5f",
             "gridcolor": "white",
             "linecolor": "white",
             "minorgridcolor": "white",
             "startlinecolor": "#2a3f5f"
            },
            "type": "carpet"
           }
          ],
          "choropleth": [
           {
            "colorbar": {
             "outlinewidth": 0,
             "ticks": ""
            },
            "type": "choropleth"
           }
          ],
          "contour": [
           {
            "colorbar": {
             "outlinewidth": 0,
             "ticks": ""
            },
            "colorscale": [
             [
              0,
              "#0d0887"
             ],
             [
              0.1111111111111111,
              "#46039f"
             ],
             [
              0.2222222222222222,
              "#7201a8"
             ],
             [
              0.3333333333333333,
              "#9c179e"
             ],
             [
              0.4444444444444444,
              "#bd3786"
             ],
             [
              0.5555555555555556,
              "#d8576b"
             ],
             [
              0.6666666666666666,
              "#ed7953"
             ],
             [
              0.7777777777777778,
              "#fb9f3a"
             ],
             [
              0.8888888888888888,
              "#fdca26"
             ],
             [
              1,
              "#f0f921"
             ]
            ],
            "type": "contour"
           }
          ],
          "contourcarpet": [
           {
            "colorbar": {
             "outlinewidth": 0,
             "ticks": ""
            },
            "type": "contourcarpet"
           }
          ],
          "heatmap": [
           {
            "colorbar": {
             "outlinewidth": 0,
             "ticks": ""
            },
            "colorscale": [
             [
              0,
              "#0d0887"
             ],
             [
              0.1111111111111111,
              "#46039f"
             ],
             [
              0.2222222222222222,
              "#7201a8"
             ],
             [
              0.3333333333333333,
              "#9c179e"
             ],
             [
              0.4444444444444444,
              "#bd3786"
             ],
             [
              0.5555555555555556,
              "#d8576b"
             ],
             [
              0.6666666666666666,
              "#ed7953"
             ],
             [
              0.7777777777777778,
              "#fb9f3a"
             ],
             [
              0.8888888888888888,
              "#fdca26"
             ],
             [
              1,
              "#f0f921"
             ]
            ],
            "type": "heatmap"
           }
          ],
          "heatmapgl": [
           {
            "colorbar": {
             "outlinewidth": 0,
             "ticks": ""
            },
            "colorscale": [
             [
              0,
              "#0d0887"
             ],
             [
              0.1111111111111111,
              "#46039f"
             ],
             [
              0.2222222222222222,
              "#7201a8"
             ],
             [
              0.3333333333333333,
              "#9c179e"
             ],
             [
              0.4444444444444444,
              "#bd3786"
             ],
             [
              0.5555555555555556,
              "#d8576b"
             ],
             [
              0.6666666666666666,
              "#ed7953"
             ],
             [
              0.7777777777777778,
              "#fb9f3a"
             ],
             [
              0.8888888888888888,
              "#fdca26"
             ],
             [
              1,
              "#f0f921"
             ]
            ],
            "type": "heatmapgl"
           }
          ],
          "histogram": [
           {
            "marker": {
             "pattern": {
              "fillmode": "overlay",
              "size": 10,
              "solidity": 0.2
             }
            },
            "type": "histogram"
           }
          ],
          "histogram2d": [
           {
            "colorbar": {
             "outlinewidth": 0,
             "ticks": ""
            },
            "colorscale": [
             [
              0,
              "#0d0887"
             ],
             [
              0.1111111111111111,
              "#46039f"
             ],
             [
              0.2222222222222222,
              "#7201a8"
             ],
             [
              0.3333333333333333,
              "#9c179e"
             ],
             [
              0.4444444444444444,
              "#bd3786"
             ],
             [
              0.5555555555555556,
              "#d8576b"
             ],
             [
              0.6666666666666666,
              "#ed7953"
             ],
             [
              0.7777777777777778,
              "#fb9f3a"
             ],
             [
              0.8888888888888888,
              "#fdca26"
             ],
             [
              1,
              "#f0f921"
             ]
            ],
            "type": "histogram2d"
           }
          ],
          "histogram2dcontour": [
           {
            "colorbar": {
             "outlinewidth": 0,
             "ticks": ""
            },
            "colorscale": [
             [
              0,
              "#0d0887"
             ],
             [
              0.1111111111111111,
              "#46039f"
             ],
             [
              0.2222222222222222,
              "#7201a8"
             ],
             [
              0.3333333333333333,
              "#9c179e"
             ],
             [
              0.4444444444444444,
              "#bd3786"
             ],
             [
              0.5555555555555556,
              "#d8576b"
             ],
             [
              0.6666666666666666,
              "#ed7953"
             ],
             [
              0.7777777777777778,
              "#fb9f3a"
             ],
             [
              0.8888888888888888,
              "#fdca26"
             ],
             [
              1,
              "#f0f921"
             ]
            ],
            "type": "histogram2dcontour"
           }
          ],
          "mesh3d": [
           {
            "colorbar": {
             "outlinewidth": 0,
             "ticks": ""
            },
            "type": "mesh3d"
           }
          ],
          "parcoords": [
           {
            "line": {
             "colorbar": {
              "outlinewidth": 0,
              "ticks": ""
             }
            },
            "type": "parcoords"
           }
          ],
          "pie": [
           {
            "automargin": true,
            "type": "pie"
           }
          ],
          "scatter": [
           {
            "fillpattern": {
             "fillmode": "overlay",
             "size": 10,
             "solidity": 0.2
            },
            "type": "scatter"
           }
          ],
          "scatter3d": [
           {
            "line": {
             "colorbar": {
              "outlinewidth": 0,
              "ticks": ""
             }
            },
            "marker": {
             "colorbar": {
              "outlinewidth": 0,
              "ticks": ""
             }
            },
            "type": "scatter3d"
           }
          ],
          "scattercarpet": [
           {
            "marker": {
             "colorbar": {
              "outlinewidth": 0,
              "ticks": ""
             }
            },
            "type": "scattercarpet"
           }
          ],
          "scattergeo": [
           {
            "marker": {
             "colorbar": {
              "outlinewidth": 0,
              "ticks": ""
             }
            },
            "type": "scattergeo"
           }
          ],
          "scattergl": [
           {
            "marker": {
             "colorbar": {
              "outlinewidth": 0,
              "ticks": ""
             }
            },
            "type": "scattergl"
           }
          ],
          "scattermapbox": [
           {
            "marker": {
             "colorbar": {
              "outlinewidth": 0,
              "ticks": ""
             }
            },
            "type": "scattermapbox"
           }
          ],
          "scatterpolar": [
           {
            "marker": {
             "colorbar": {
              "outlinewidth": 0,
              "ticks": ""
             }
            },
            "type": "scatterpolar"
           }
          ],
          "scatterpolargl": [
           {
            "marker": {
             "colorbar": {
              "outlinewidth": 0,
              "ticks": ""
             }
            },
            "type": "scatterpolargl"
           }
          ],
          "scatterternary": [
           {
            "marker": {
             "colorbar": {
              "outlinewidth": 0,
              "ticks": ""
             }
            },
            "type": "scatterternary"
           }
          ],
          "surface": [
           {
            "colorbar": {
             "outlinewidth": 0,
             "ticks": ""
            },
            "colorscale": [
             [
              0,
              "#0d0887"
             ],
             [
              0.1111111111111111,
              "#46039f"
             ],
             [
              0.2222222222222222,
              "#7201a8"
             ],
             [
              0.3333333333333333,
              "#9c179e"
             ],
             [
              0.4444444444444444,
              "#bd3786"
             ],
             [
              0.5555555555555556,
              "#d8576b"
             ],
             [
              0.6666666666666666,
              "#ed7953"
             ],
             [
              0.7777777777777778,
              "#fb9f3a"
             ],
             [
              0.8888888888888888,
              "#fdca26"
             ],
             [
              1,
              "#f0f921"
             ]
            ],
            "type": "surface"
           }
          ],
          "table": [
           {
            "cells": {
             "fill": {
              "color": "#EBF0F8"
             },
             "line": {
              "color": "white"
             }
            },
            "header": {
             "fill": {
              "color": "#C8D4E3"
             },
             "line": {
              "color": "white"
             }
            },
            "type": "table"
           }
          ]
         },
         "layout": {
          "annotationdefaults": {
           "arrowcolor": "#2a3f5f",
           "arrowhead": 0,
           "arrowwidth": 1
          },
          "autotypenumbers": "strict",
          "coloraxis": {
           "colorbar": {
            "outlinewidth": 0,
            "ticks": ""
           }
          },
          "colorscale": {
           "diverging": [
            [
             0,
             "#8e0152"
            ],
            [
             0.1,
             "#c51b7d"
            ],
            [
             0.2,
             "#de77ae"
            ],
            [
             0.3,
             "#f1b6da"
            ],
            [
             0.4,
             "#fde0ef"
            ],
            [
             0.5,
             "#f7f7f7"
            ],
            [
             0.6,
             "#e6f5d0"
            ],
            [
             0.7,
             "#b8e186"
            ],
            [
             0.8,
             "#7fbc41"
            ],
            [
             0.9,
             "#4d9221"
            ],
            [
             1,
             "#276419"
            ]
           ],
           "sequential": [
            [
             0,
             "#0d0887"
            ],
            [
             0.1111111111111111,
             "#46039f"
            ],
            [
             0.2222222222222222,
             "#7201a8"
            ],
            [
             0.3333333333333333,
             "#9c179e"
            ],
            [
             0.4444444444444444,
             "#bd3786"
            ],
            [
             0.5555555555555556,
             "#d8576b"
            ],
            [
             0.6666666666666666,
             "#ed7953"
            ],
            [
             0.7777777777777778,
             "#fb9f3a"
            ],
            [
             0.8888888888888888,
             "#fdca26"
            ],
            [
             1,
             "#f0f921"
            ]
           ],
           "sequentialminus": [
            [
             0,
             "#0d0887"
            ],
            [
             0.1111111111111111,
             "#46039f"
            ],
            [
             0.2222222222222222,
             "#7201a8"
            ],
            [
             0.3333333333333333,
             "#9c179e"
            ],
            [
             0.4444444444444444,
             "#bd3786"
            ],
            [
             0.5555555555555556,
             "#d8576b"
            ],
            [
             0.6666666666666666,
             "#ed7953"
            ],
            [
             0.7777777777777778,
             "#fb9f3a"
            ],
            [
             0.8888888888888888,
             "#fdca26"
            ],
            [
             1,
             "#f0f921"
            ]
           ]
          },
          "colorway": [
           "#636efa",
           "#EF553B",
           "#00cc96",
           "#ab63fa",
           "#FFA15A",
           "#19d3f3",
           "#FF6692",
           "#B6E880",
           "#FF97FF",
           "#FECB52"
          ],
          "font": {
           "color": "#2a3f5f"
          },
          "geo": {
           "bgcolor": "white",
           "lakecolor": "white",
           "landcolor": "#E5ECF6",
           "showlakes": true,
           "showland": true,
           "subunitcolor": "white"
          },
          "hoverlabel": {
           "align": "left"
          },
          "hovermode": "closest",
          "mapbox": {
           "style": "light"
          },
          "paper_bgcolor": "white",
          "plot_bgcolor": "#E5ECF6",
          "polar": {
           "angularaxis": {
            "gridcolor": "white",
            "linecolor": "white",
            "ticks": ""
           },
           "bgcolor": "#E5ECF6",
           "radialaxis": {
            "gridcolor": "white",
            "linecolor": "white",
            "ticks": ""
           }
          },
          "scene": {
           "xaxis": {
            "backgroundcolor": "#E5ECF6",
            "gridcolor": "white",
            "gridwidth": 2,
            "linecolor": "white",
            "showbackground": true,
            "ticks": "",
            "zerolinecolor": "white"
           },
           "yaxis": {
            "backgroundcolor": "#E5ECF6",
            "gridcolor": "white",
            "gridwidth": 2,
            "linecolor": "white",
            "showbackground": true,
            "ticks": "",
            "zerolinecolor": "white"
           },
           "zaxis": {
            "backgroundcolor": "#E5ECF6",
            "gridcolor": "white",
            "gridwidth": 2,
            "linecolor": "white",
            "showbackground": true,
            "ticks": "",
            "zerolinecolor": "white"
           }
          },
          "shapedefaults": {
           "line": {
            "color": "#2a3f5f"
           }
          },
          "ternary": {
           "aaxis": {
            "gridcolor": "white",
            "linecolor": "white",
            "ticks": ""
           },
           "baxis": {
            "gridcolor": "white",
            "linecolor": "white",
            "ticks": ""
           },
           "bgcolor": "#E5ECF6",
           "caxis": {
            "gridcolor": "white",
            "linecolor": "white",
            "ticks": ""
           }
          },
          "title": {
           "x": 0.05
          },
          "xaxis": {
           "automargin": true,
           "gridcolor": "white",
           "linecolor": "white",
           "ticks": "",
           "title": {
            "standoff": 15
           },
           "zerolinecolor": "white",
           "zerolinewidth": 2
          },
          "yaxis": {
           "automargin": true,
           "gridcolor": "white",
           "linecolor": "white",
           "ticks": "",
           "title": {
            "standoff": 15
           },
           "zerolinecolor": "white",
           "zerolinewidth": 2
          }
         }
        },
        "title": {
         "text": "Top 15 SubCategoryNames by Unique EventID Count (2025)"
        },
        "xaxis": {
         "anchor": "y",
         "domain": [
          0,
          1
         ],
         "tickangle": 60,
         "title": {
          "text": "SubCategoryName"
         }
        },
        "yaxis": {
         "anchor": "x",
         "domain": [
          0,
          1
         ],
         "title": {
          "text": "Unique EventID Count"
         }
        }
       }
      }
     },
     "metadata": {},
     "output_type": "display_data"
    },
    {
     "data": {
      "application/vnd.plotly.v1+json": {
       "config": {
        "plotlyServerURL": "https://plot.ly"
       },
       "data": [
        {
         "alignmentgroup": "True",
         "hovertemplate": "Borough=%{x}<br>Unique EventID Count=%{y}<br>Year=%{marker.color}<extra></extra>",
         "legendgroup": "",
         "marker": {
          "color": [
           2023,
           2023,
           2023,
           2023,
           2023,
           2024,
           2024,
           2024,
           2024,
           2024,
           2025,
           2025,
           2025,
           2025,
           2025
          ],
          "coloraxis": "coloraxis",
          "pattern": {
           "shape": ""
          }
         },
         "name": "",
         "offsetgroup": "",
         "orientation": "v",
         "showlegend": false,
         "textposition": "auto",
         "type": "bar",
         "x": [
          "Bronx",
          "Brooklyn",
          "Manhattan",
          "Queens",
          "Staten Island",
          "Bronx",
          "Brooklyn",
          "Manhattan",
          "Queens",
          "Staten Island",
          "Bronx",
          "Brooklyn",
          "Manhattan",
          "Queens",
          "Staten Island"
         ],
         "xaxis": "x",
         "y": [
          159,
          1484,
          2467,
          594,
          15,
          191,
          2164,
          3086,
          914,
          50,
          44,
          544,
          822,
          233,
          7
         ],
         "yaxis": "y"
        }
       ],
       "layout": {
        "barmode": "group",
        "coloraxis": {
         "colorbar": {
          "title": {
           "text": "Year"
          }
         },
         "colorscale": [
          [
           0,
           "#0d0887"
          ],
          [
           0.1111111111111111,
           "#46039f"
          ],
          [
           0.2222222222222222,
           "#7201a8"
          ],
          [
           0.3333333333333333,
           "#9c179e"
          ],
          [
           0.4444444444444444,
           "#bd3786"
          ],
          [
           0.5555555555555556,
           "#d8576b"
          ],
          [
           0.6666666666666666,
           "#ed7953"
          ],
          [
           0.7777777777777778,
           "#fb9f3a"
          ],
          [
           0.8888888888888888,
           "#fdca26"
          ],
          [
           1,
           "#f0f921"
          ]
         ]
        },
        "legend": {
         "tracegroupgap": 0
        },
        "template": {
         "data": {
          "bar": [
           {
            "error_x": {
             "color": "#2a3f5f"
            },
            "error_y": {
             "color": "#2a3f5f"
            },
            "marker": {
             "line": {
              "color": "#E5ECF6",
              "width": 0.5
             },
             "pattern": {
              "fillmode": "overlay",
              "size": 10,
              "solidity": 0.2
             }
            },
            "type": "bar"
           }
          ],
          "barpolar": [
           {
            "marker": {
             "line": {
              "color": "#E5ECF6",
              "width": 0.5
             },
             "pattern": {
              "fillmode": "overlay",
              "size": 10,
              "solidity": 0.2
             }
            },
            "type": "barpolar"
           }
          ],
          "carpet": [
           {
            "aaxis": {
             "endlinecolor": "#2a3f5f",
             "gridcolor": "white",
             "linecolor": "white",
             "minorgridcolor": "white",
             "startlinecolor": "#2a3f5f"
            },
            "baxis": {
             "endlinecolor": "#2a3f5f",
             "gridcolor": "white",
             "linecolor": "white",
             "minorgridcolor": "white",
             "startlinecolor": "#2a3f5f"
            },
            "type": "carpet"
           }
          ],
          "choropleth": [
           {
            "colorbar": {
             "outlinewidth": 0,
             "ticks": ""
            },
            "type": "choropleth"
           }
          ],
          "contour": [
           {
            "colorbar": {
             "outlinewidth": 0,
             "ticks": ""
            },
            "colorscale": [
             [
              0,
              "#0d0887"
             ],
             [
              0.1111111111111111,
              "#46039f"
             ],
             [
              0.2222222222222222,
              "#7201a8"
             ],
             [
              0.3333333333333333,
              "#9c179e"
             ],
             [
              0.4444444444444444,
              "#bd3786"
             ],
             [
              0.5555555555555556,
              "#d8576b"
             ],
             [
              0.6666666666666666,
              "#ed7953"
             ],
             [
              0.7777777777777778,
              "#fb9f3a"
             ],
             [
              0.8888888888888888,
              "#fdca26"
             ],
             [
              1,
              "#f0f921"
             ]
            ],
            "type": "contour"
           }
          ],
          "contourcarpet": [
           {
            "colorbar": {
             "outlinewidth": 0,
             "ticks": ""
            },
            "type": "contourcarpet"
           }
          ],
          "heatmap": [
           {
            "colorbar": {
             "outlinewidth": 0,
             "ticks": ""
            },
            "colorscale": [
             [
              0,
              "#0d0887"
             ],
             [
              0.1111111111111111,
              "#46039f"
             ],
             [
              0.2222222222222222,
              "#7201a8"
             ],
             [
              0.3333333333333333,
              "#9c179e"
             ],
             [
              0.4444444444444444,
              "#bd3786"
             ],
             [
              0.5555555555555556,
              "#d8576b"
             ],
             [
              0.6666666666666666,
              "#ed7953"
             ],
             [
              0.7777777777777778,
              "#fb9f3a"
             ],
             [
              0.8888888888888888,
              "#fdca26"
             ],
             [
              1,
              "#f0f921"
             ]
            ],
            "type": "heatmap"
           }
          ],
          "heatmapgl": [
           {
            "colorbar": {
             "outlinewidth": 0,
             "ticks": ""
            },
            "colorscale": [
             [
              0,
              "#0d0887"
             ],
             [
              0.1111111111111111,
              "#46039f"
             ],
             [
              0.2222222222222222,
              "#7201a8"
             ],
             [
              0.3333333333333333,
              "#9c179e"
             ],
             [
              0.4444444444444444,
              "#bd3786"
             ],
             [
              0.5555555555555556,
              "#d8576b"
             ],
             [
              0.6666666666666666,
              "#ed7953"
             ],
             [
              0.7777777777777778,
              "#fb9f3a"
             ],
             [
              0.8888888888888888,
              "#fdca26"
             ],
             [
              1,
              "#f0f921"
             ]
            ],
            "type": "heatmapgl"
           }
          ],
          "histogram": [
           {
            "marker": {
             "pattern": {
              "fillmode": "overlay",
              "size": 10,
              "solidity": 0.2
             }
            },
            "type": "histogram"
           }
          ],
          "histogram2d": [
           {
            "colorbar": {
             "outlinewidth": 0,
             "ticks": ""
            },
            "colorscale": [
             [
              0,
              "#0d0887"
             ],
             [
              0.1111111111111111,
              "#46039f"
             ],
             [
              0.2222222222222222,
              "#7201a8"
             ],
             [
              0.3333333333333333,
              "#9c179e"
             ],
             [
              0.4444444444444444,
              "#bd3786"
             ],
             [
              0.5555555555555556,
              "#d8576b"
             ],
             [
              0.6666666666666666,
              "#ed7953"
             ],
             [
              0.7777777777777778,
              "#fb9f3a"
             ],
             [
              0.8888888888888888,
              "#fdca26"
             ],
             [
              1,
              "#f0f921"
             ]
            ],
            "type": "histogram2d"
           }
          ],
          "histogram2dcontour": [
           {
            "colorbar": {
             "outlinewidth": 0,
             "ticks": ""
            },
            "colorscale": [
             [
              0,
              "#0d0887"
             ],
             [
              0.1111111111111111,
              "#46039f"
             ],
             [
              0.2222222222222222,
              "#7201a8"
             ],
             [
              0.3333333333333333,
              "#9c179e"
             ],
             [
              0.4444444444444444,
              "#bd3786"
             ],
             [
              0.5555555555555556,
              "#d8576b"
             ],
             [
              0.6666666666666666,
              "#ed7953"
             ],
             [
              0.7777777777777778,
              "#fb9f3a"
             ],
             [
              0.8888888888888888,
              "#fdca26"
             ],
             [
              1,
              "#f0f921"
             ]
            ],
            "type": "histogram2dcontour"
           }
          ],
          "mesh3d": [
           {
            "colorbar": {
             "outlinewidth": 0,
             "ticks": ""
            },
            "type": "mesh3d"
           }
          ],
          "parcoords": [
           {
            "line": {
             "colorbar": {
              "outlinewidth": 0,
              "ticks": ""
             }
            },
            "type": "parcoords"
           }
          ],
          "pie": [
           {
            "automargin": true,
            "type": "pie"
           }
          ],
          "scatter": [
           {
            "fillpattern": {
             "fillmode": "overlay",
             "size": 10,
             "solidity": 0.2
            },
            "type": "scatter"
           }
          ],
          "scatter3d": [
           {
            "line": {
             "colorbar": {
              "outlinewidth": 0,
              "ticks": ""
             }
            },
            "marker": {
             "colorbar": {
              "outlinewidth": 0,
              "ticks": ""
             }
            },
            "type": "scatter3d"
           }
          ],
          "scattercarpet": [
           {
            "marker": {
             "colorbar": {
              "outlinewidth": 0,
              "ticks": ""
             }
            },
            "type": "scattercarpet"
           }
          ],
          "scattergeo": [
           {
            "marker": {
             "colorbar": {
              "outlinewidth": 0,
              "ticks": ""
             }
            },
            "type": "scattergeo"
           }
          ],
          "scattergl": [
           {
            "marker": {
             "colorbar": {
              "outlinewidth": 0,
              "ticks": ""
             }
            },
            "type": "scattergl"
           }
          ],
          "scattermapbox": [
           {
            "marker": {
             "colorbar": {
              "outlinewidth": 0,
              "ticks": ""
             }
            },
            "type": "scattermapbox"
           }
          ],
          "scatterpolar": [
           {
            "marker": {
             "colorbar": {
              "outlinewidth": 0,
              "ticks": ""
             }
            },
            "type": "scatterpolar"
           }
          ],
          "scatterpolargl": [
           {
            "marker": {
             "colorbar": {
              "outlinewidth": 0,
              "ticks": ""
             }
            },
            "type": "scatterpolargl"
           }
          ],
          "scatterternary": [
           {
            "marker": {
             "colorbar": {
              "outlinewidth": 0,
              "ticks": ""
             }
            },
            "type": "scatterternary"
           }
          ],
          "surface": [
           {
            "colorbar": {
             "outlinewidth": 0,
             "ticks": ""
            },
            "colorscale": [
             [
              0,
              "#0d0887"
             ],
             [
              0.1111111111111111,
              "#46039f"
             ],
             [
              0.2222222222222222,
              "#7201a8"
             ],
             [
              0.3333333333333333,
              "#9c179e"
             ],
             [
              0.4444444444444444,
              "#bd3786"
             ],
             [
              0.5555555555555556,
              "#d8576b"
             ],
             [
              0.6666666666666666,
              "#ed7953"
             ],
             [
              0.7777777777777778,
              "#fb9f3a"
             ],
             [
              0.8888888888888888,
              "#fdca26"
             ],
             [
              1,
              "#f0f921"
             ]
            ],
            "type": "surface"
           }
          ],
          "table": [
           {
            "cells": {
             "fill": {
              "color": "#EBF0F8"
             },
             "line": {
              "color": "white"
             }
            },
            "header": {
             "fill": {
              "color": "#C8D4E3"
             },
             "line": {
              "color": "white"
             }
            },
            "type": "table"
           }
          ]
         },
         "layout": {
          "annotationdefaults": {
           "arrowcolor": "#2a3f5f",
           "arrowhead": 0,
           "arrowwidth": 1
          },
          "autotypenumbers": "strict",
          "coloraxis": {
           "colorbar": {
            "outlinewidth": 0,
            "ticks": ""
           }
          },
          "colorscale": {
           "diverging": [
            [
             0,
             "#8e0152"
            ],
            [
             0.1,
             "#c51b7d"
            ],
            [
             0.2,
             "#de77ae"
            ],
            [
             0.3,
             "#f1b6da"
            ],
            [
             0.4,
             "#fde0ef"
            ],
            [
             0.5,
             "#f7f7f7"
            ],
            [
             0.6,
             "#e6f5d0"
            ],
            [
             0.7,
             "#b8e186"
            ],
            [
             0.8,
             "#7fbc41"
            ],
            [
             0.9,
             "#4d9221"
            ],
            [
             1,
             "#276419"
            ]
           ],
           "sequential": [
            [
             0,
             "#0d0887"
            ],
            [
             0.1111111111111111,
             "#46039f"
            ],
            [
             0.2222222222222222,
             "#7201a8"
            ],
            [
             0.3333333333333333,
             "#9c179e"
            ],
            [
             0.4444444444444444,
             "#bd3786"
            ],
            [
             0.5555555555555556,
             "#d8576b"
            ],
            [
             0.6666666666666666,
             "#ed7953"
            ],
            [
             0.7777777777777778,
             "#fb9f3a"
            ],
            [
             0.8888888888888888,
             "#fdca26"
            ],
            [
             1,
             "#f0f921"
            ]
           ],
           "sequentialminus": [
            [
             0,
             "#0d0887"
            ],
            [
             0.1111111111111111,
             "#46039f"
            ],
            [
             0.2222222222222222,
             "#7201a8"
            ],
            [
             0.3333333333333333,
             "#9c179e"
            ],
            [
             0.4444444444444444,
             "#bd3786"
            ],
            [
             0.5555555555555556,
             "#d8576b"
            ],
            [
             0.6666666666666666,
             "#ed7953"
            ],
            [
             0.7777777777777778,
             "#fb9f3a"
            ],
            [
             0.8888888888888888,
             "#fdca26"
            ],
            [
             1,
             "#f0f921"
            ]
           ]
          },
          "colorway": [
           "#636efa",
           "#EF553B",
           "#00cc96",
           "#ab63fa",
           "#FFA15A",
           "#19d3f3",
           "#FF6692",
           "#B6E880",
           "#FF97FF",
           "#FECB52"
          ],
          "font": {
           "color": "#2a3f5f"
          },
          "geo": {
           "bgcolor": "white",
           "lakecolor": "white",
           "landcolor": "#E5ECF6",
           "showlakes": true,
           "showland": true,
           "subunitcolor": "white"
          },
          "hoverlabel": {
           "align": "left"
          },
          "hovermode": "closest",
          "mapbox": {
           "style": "light"
          },
          "paper_bgcolor": "white",
          "plot_bgcolor": "#E5ECF6",
          "polar": {
           "angularaxis": {
            "gridcolor": "white",
            "linecolor": "white",
            "ticks": ""
           },
           "bgcolor": "#E5ECF6",
           "radialaxis": {
            "gridcolor": "white",
            "linecolor": "white",
            "ticks": ""
           }
          },
          "scene": {
           "xaxis": {
            "backgroundcolor": "#E5ECF6",
            "gridcolor": "white",
            "gridwidth": 2,
            "linecolor": "white",
            "showbackground": true,
            "ticks": "",
            "zerolinecolor": "white"
           },
           "yaxis": {
            "backgroundcolor": "#E5ECF6",
            "gridcolor": "white",
            "gridwidth": 2,
            "linecolor": "white",
            "showbackground": true,
            "ticks": "",
            "zerolinecolor": "white"
           },
           "zaxis": {
            "backgroundcolor": "#E5ECF6",
            "gridcolor": "white",
            "gridwidth": 2,
            "linecolor": "white",
            "showbackground": true,
            "ticks": "",
            "zerolinecolor": "white"
           }
          },
          "shapedefaults": {
           "line": {
            "color": "#2a3f5f"
           }
          },
          "ternary": {
           "aaxis": {
            "gridcolor": "white",
            "linecolor": "white",
            "ticks": ""
           },
           "baxis": {
            "gridcolor": "white",
            "linecolor": "white",
            "ticks": ""
           },
           "bgcolor": "#E5ECF6",
           "caxis": {
            "gridcolor": "white",
            "linecolor": "white",
            "ticks": ""
           }
          },
          "title": {
           "x": 0.05
          },
          "xaxis": {
           "automargin": true,
           "gridcolor": "white",
           "linecolor": "white",
           "ticks": "",
           "title": {
            "standoff": 15
           },
           "zerolinecolor": "white",
           "zerolinewidth": 2
          },
          "yaxis": {
           "automargin": true,
           "gridcolor": "white",
           "linecolor": "white",
           "ticks": "",
           "title": {
            "standoff": 15
           },
           "zerolinecolor": "white",
           "zerolinewidth": 2
          }
         }
        },
        "title": {
         "text": "Unique Events by Borough (All Years)"
        },
        "xaxis": {
         "anchor": "y",
         "domain": [
          0,
          1
         ],
         "title": {
          "text": "Borough"
         }
        },
        "yaxis": {
         "anchor": "x",
         "domain": [
          0,
          1
         ],
         "title": {
          "text": "Unique EventID Count"
         }
        }
       }
      }
     },
     "metadata": {},
     "output_type": "display_data"
    }
   ],
   "source": [
    "import plotly.express as px\n",
    "\n",
    "# Ensure SubCategoryName column exists\n",
    "film = film.rename(columns={'SubCategory': 'SubCategoryName'})\n",
    "\n",
    "# Extract year from StartDate (convert if needed)\n",
    "film['Year'] = pd.to_datetime(film['StartDate'], errors='coerce').dt.year\n",
    "\n",
    "# Filter for a specific year or allow interactive filtering\n",
    "years = sorted(film['Year'].dropna().unique())\n",
    "default_year = years[-1] if years else None\n",
    "\n",
    "# Filter data for the default year (latest year)\n",
    "film_year = film[film['Year'] == default_year] if default_year else film.copy()\n",
    "\n",
    "# Unique EventID by Borough (for selected year)\n",
    "borough_event_counts = film_year.groupby('Borough')['EventID'].nunique().reset_index(name='Unique_Events')\n",
    "fig_borough = px.bar(borough_event_counts, x='Borough', y='Unique_Events',\n",
    "                     title=f'Unique Events by Borough ({default_year})',\n",
    "                     labels={'Unique_Events': 'Unique EventID Count'})\n",
    "fig_borough.show()\n",
    "\n",
    "# Unique EventID by Category (for selected year)\n",
    "category_event_counts = film_year.groupby('Category')['EventID'].nunique().reset_index(name='Unique_Events')\n",
    "fig_category = px.bar(category_event_counts, x='Category', y='Unique_Events',\n",
    "                      title=f'Unique Events by Category ({default_year})',\n",
    "                      labels={'Unique_Events': 'Unique EventID Count'})\n",
    "fig_category.update_xaxes(tickangle=45)\n",
    "fig_category.show()\n",
    "\n",
    "# Unique EventID by SubCategoryName (top 15, for selected year)\n",
    "subcategory_event_counts = (\n",
    "    film_year.groupby('SubCategoryName')['EventID']\n",
    "    .nunique()\n",
    "    .reset_index(name='Unique_Events')\n",
    "    .sort_values('Unique_Events', ascending=False)\n",
    "    .head(15)\n",
    ")\n",
    "fig_subcat = px.bar(subcategory_event_counts, x='SubCategoryName', y='Unique_Events',\n",
    "                    title=f'Top 15 SubCategoryNames by Unique EventID Count ({default_year})',\n",
    "                    labels={'Unique_Events': 'Unique EventID Count'})\n",
    "fig_subcat.update_xaxes(tickangle=60)\n",
    "fig_subcat.show()\n",
    "\n",
    "# Interactive: Show all years with a dropdown\n",
    "fig_all = px.bar(\n",
    "    film.groupby(['Year', 'Borough'])['EventID'].nunique().reset_index(name='Unique_Events'),\n",
    "    x='Borough', y='Unique_Events', color='Year', barmode='group',\n",
    "    title='Unique Events by Borough (All Years)',\n",
    "    labels={'Unique_Events': 'Unique EventID Count'}\n",
    ")\n",
    "fig_all.show()"
   ]
  },
  {
   "cell_type": "markdown",
   "id": "lkwqzg2dtz",
   "metadata": {},
   "source": "# NYC Film Permits Analysis - July 2025 (Real Data)"
  },
  {
   "cell_type": "code",
   "execution_count": null,
   "id": "1d9ad1ab",
   "metadata": {},
   "outputs": [],
   "source": "# Analyze the date range of available data first\nprint(\"📊 Analyzing available date range in film permit data...\")\nprint(\"=\" * 60)\n\n# Check the date range\nfilm['StartDate_dt'] = pd.to_datetime(film['StartDate'])\nfilm['EndDate_dt'] = pd.to_datetime(film['EndDate'])\n\n# Get date range statistics\nstart_min = film['StartDate_dt'].min()\nstart_max = film['StartDate_dt'].max()\nend_min = film['EndDate_dt'].min()\nend_max = film['EndDate_dt'].max()\n\nprint(f\"📅 Start Date Range: {start_min.strftime('%Y-%m-%d')} to {start_max.strftime('%Y-%m-%d')}\")\nprint(f\"📅 End Date Range: {end_min.strftime('%Y-%m-%d')} to {end_max.strftime('%Y-%m-%d')}\")\n\n# Check what years and months are available\nyears_available = sorted(film['StartDate_dt'].dt.year.unique())\nprint(f\"\\n📆 Years Available: {years_available}\")\n\n# Focus on 2025 data\nfilm_2025 = film[film['StartDate_dt'].dt.year == 2025]\nmonths_2025 = sorted(film_2025['StartDate_dt'].dt.month.unique())\nmonth_names = ['Jan', 'Feb', 'Mar', 'Apr', 'May', 'Jun', 'Jul', 'Aug', 'Sep', 'Oct', 'Nov', 'Dec']\navailable_months = [month_names[m-1] for m in months_2025]\nprint(f\"📅 2025 Months Available: {available_months}\")\n\n# Check the most recent month with data\nmost_recent_month = film['StartDate_dt'].dt.to_period('M').max()\nprint(f\"\\n🎯 Most Recent Month with Data: {most_recent_month}\")\n\n# Check how much data we have for each recent month\nrecent_months = film['StartDate_dt'].dt.to_period('M').value_counts().head(6).sort_index(ascending=False)\nprint(f\"\\n📈 Recent Months Data Count:\")\nfor month, count in recent_months.items():\n    print(f\"  {month}: {count} events\")\n\n# Now let's use the most recent full month with substantial data\n# Looking for July 2025 or the most recent month with good data\njuly_2025_filming = film[\n    (film['StartDate_dt'].dt.month == 7) & (film['StartDate_dt'].dt.year == 2025)\n]\n\nprint(f\"\\n🎬 July 2025 Filming Events: {len(july_2025_filming)}\")\nprint(f\"🎯 Unique Projects: {july_2025_filming['EventID'].nunique()}\")\n\n# Use real July 2025 data instead of fictional August 2025 data\naugust_df = july_2025_filming.copy()\n\n# Show sample of real data\nprint(f\"\\n📋 Sample of Real July 2025 Data:\")\ndisplay(august_df[['EventID', 'EventType', 'StartDate', 'EndDate', 'Borough', 'Category', 'SubCategoryName']].head(10))"
  },
  {
   "cell_type": "markdown",
   "id": "74e43b97",
   "metadata": {},
   "source": "## 📊 Charts: July 2025 NYC Filming Analysis (Real Data)"
  },
  {
   "cell_type": "code",
   "execution_count": null,
   "id": "16c7e35a",
   "metadata": {},
   "outputs": [],
   "source": "# Display the comprehensive table of July 2025 NYC filming (Real Data)\nprint(\"🎬 NYC FILMING - JULY 2025 (REAL DATA)\")\nprint(\"=\" * 50)\n\n# Check if we have data for July 2025\nif len(august_df) > 0:\n    # Display the actual filming data\n    display(august_df[['EventID', 'EventType', 'StartDate', 'EndDate', 'Borough', 'Category', 'SubCategoryName']].head(20))\n    \n    # Summary statistics\n    print(f\"\\n📊 SUMMARY:\")\n    print(f\"Total Events: {len(august_df)}\")\n    print(f\"Unique Projects: {august_df['EventID'].nunique()}\")\n    \n    # Category breakdown\n    if 'Category' in august_df.columns:\n        category_counts = august_df['Category'].value_counts()\n        print(f\"\\n📺 BY CATEGORY:\")\n        for category, count in category_counts.items():\n            percentage = (count / len(august_df)) * 100\n            print(f\"  {category}: {count} events ({percentage:.1f}%)\")\n    \n    # Borough breakdown\n    if 'Borough' in august_df.columns:\n        borough_counts = august_df['Borough'].value_counts()\n        print(f\"\\n🌍 BY BOROUGH:\")\n        for borough, count in borough_counts.items():\n            percentage = (count / len(august_df)) * 100\n            print(f\"  {borough}: {count} events ({percentage:.1f}%)\")\n            \n    # Event Type breakdown\n    if 'EventType' in august_df.columns:\n        event_type_counts = august_df['EventType'].value_counts()\n        print(f\"\\n🎯 BY EVENT TYPE:\")\n        for event_type, count in event_type_counts.items():\n            percentage = (count / len(august_df)) * 100\n            print(f\"  {event_type}: {count} events ({percentage:.1f}%)\")\n            \n    # SubCategory breakdown (top 5)\n    if 'SubCategoryName' in august_df.columns:\n        subcategory_counts = august_df['SubCategoryName'].value_counts().head(5)\n        print(f\"\\n🎭 TOP 5 PRODUCTION TYPES:\")\n        for subcategory, count in subcategory_counts.items():\n            percentage = (count / len(august_df)) * 100\n            print(f\"  {subcategory}: {count} events ({percentage:.1f}%)\")\nelse:\n    print(\"No filming events found for July 2025 in the dataset.\")\n    print(\"This might be because:\")\n    print(\"- The dataset doesn't contain data for July 2025\")\n    print(\"- July 2025 events were not recorded\")\n    print(\"- The date filtering needs adjustment\")\n    \n    # Show alternative recent data\n    print(f\"\\n📋 SHOWING RECENT DATA INSTEAD:\")\n    recent_data = film.sort_values('StartDate_dt', ascending=False).head(20)\n    display(recent_data[['EventID', 'EventType', 'StartDate', 'EndDate', 'Borough', 'Category', 'SubCategoryName']])"
  },
  {
   "cell_type": "markdown",
   "id": "b75d2cad",
   "metadata": {},
   "source": "## 🗺️ Geographic Distribution - July 2025 NYC Filming (Real Data)"
  },
  {
   "cell_type": "code",
   "execution_count": null,
   "id": "05cf1786",
   "metadata": {},
   "outputs": [],
   "source": "# Charts for July 2025 NYC filming data (Real Data)\nif len(august_df) > 0:\n    # Chart 1: Projects by Category\n    if 'Category' in august_df.columns:\n        category_counts = august_df['Category'].value_counts()\n        fig1 = px.bar(\n            category_counts.reset_index(), \n            x='Category', \n            y='count',\n            title='July 2025 NYC Filming Events by Category (Real Data)',\n            labels={'count': 'Number of Events', 'Category': 'Category'},\n            color='Category',\n            color_discrete_sequence=['#FF6B6B', '#4ECDC4', '#45B7D1', '#96CEB4', '#FFEAA7']\n        )\n        fig1.update_layout(showlegend=False, height=400)\n        fig1.show()\n\n    # Chart 2: Projects by Borough\n    if 'Borough' in august_df.columns:\n        borough_counts = august_df['Borough'].value_counts()\n        fig2 = px.pie(\n            values=borough_counts.values, \n            names=borough_counts.index,\n            title='July 2025 NYC Filming Events by Borough (Real Data)',\n            color_discrete_sequence=['#FF9FF3', '#54A0FF', '#5F27CD', '#00D2D3', '#FF9F43']\n        )\n        fig2.update_traces(textposition='inside', textinfo='percent+label')\n        fig2.show()\n\n    # Chart 3: Projects by SubCategory\n    if 'SubCategoryName' in august_df.columns:\n        subcategory_counts = august_df['SubCategoryName'].value_counts()\n        fig3 = px.bar(\n            subcategory_counts.reset_index(), \n            x='SubCategoryName', \n            y='count',\n            title='July 2025 NYC Filming Events by Sub-Category (Real Data)',\n            labels={'count': 'Number of Events', 'SubCategoryName': 'Sub-Category'},\n            color='count',\n            color_continuous_scale='viridis'\n        )\n        fig3.update_xaxes(tickangle=45)\n        fig3.update_layout(height=450)\n        fig3.show()\n\n    # Chart 4: Event Types\n    if 'EventType' in august_df.columns:\n        event_type_counts = august_df['EventType'].value_counts()\n        fig4 = px.bar(\n            event_type_counts.reset_index(),\n            x='EventType',\n            y='count', \n            title='July 2025 NYC Events by Type (Real Data)',\n            labels={'count': 'Number of Events', 'EventType': 'Event Type'},\n            color='count',\n            color_continuous_scale='plasma'\n        )\n        fig4.update_xaxes(tickangle=45)\n        fig4.update_layout(height=400)\n        fig4.show()\nelse:\n    print(\"📊 No data available for July 2025 to create charts.\")\n    print(\"Showing recent filming data instead...\")\n    \n    # Show most recent data as alternative\n    recent_data = film.sort_values('StartDate_dt', ascending=False).head(50)\n    \n    # Recent Category breakdown\n    if 'Category' in recent_data.columns:\n        recent_category_counts = recent_data['Category'].value_counts()\n        fig_recent = px.bar(\n            recent_category_counts.reset_index(),\n            x='Category',\n            y='count',\n            title='Recent NYC Filming Events by Category (Last 50 Events)',\n            color='Category'\n        )\n        fig_recent.show()"
  },
  {
   "cell_type": "markdown",
   "id": "f484ed43",
   "metadata": {},
   "source": "## 🎯 Key Insights: July 2025 Filming Activity"
  },
  {
   "cell_type": "code",
   "execution_count": null,
   "id": "e08d9b10",
   "metadata": {},
   "outputs": [],
   "source": "# Create comprehensive maps for July 2025 filming locations using real NYC data\nimport plotly.graph_objects as go\nimport plotly.express as px\ntry:\n    import folium\n    from folium.plugins import HeatMap, MarkerCluster\n    FOLIUM_AVAILABLE = True\n    print(\"✅ Folium is available\")\nexcept ImportError:\n    print(\"❌ Folium not installed. Install with: pip install folium\")\n    FOLIUM_AVAILABLE = False\n\nimport numpy as np\n\n# NYC Borough coordinates for mapping\nborough_coords = {\n    'Manhattan': [40.7831, -73.9712],\n    'Brooklyn': [40.6782, -73.9442],\n    'Queens': [40.7282, -73.7949],\n    'Bronx': [40.8448, -73.8648],\n    'Staten Island': [40.5795, -74.1502]\n}\n\nif len(august_df) > 0:\n    # Check if we have geographic data\n    if 'Borough' in august_df.columns:\n        # Create a simple borough-based visualization\n        borough_counts = august_df['Borough'].value_counts()\n        \n        # Create a bar chart visualization for NYC boroughs\n        fig_map = px.bar(\n            borough_counts.reset_index(),\n            x='Borough',\n            y='count',\n            title='July 2025 NYC Filming Events by Borough (Real Data)',\n            labels={'count': 'Number of Events', 'Borough': 'Borough'},\n            color='count',\n            color_continuous_scale='viridis'\n        )\n        fig_map.update_layout(height=400)\n        fig_map.show()\n        \n        # Create an interactive map using Plotly (This should always work)\n        print(\"📊 Creating Plotly Interactive Map...\")\n        \n        # Prepare data for mapping\n        map_data = []\n        for borough, count in borough_counts.items():\n            if borough in borough_coords:\n                map_data.append({\n                    'Borough': borough,\n                    'Count': count,\n                    'Lat': borough_coords[borough][0],\n                    'Lon': borough_coords[borough][1],\n                    'Size': max(count * 3, 15)  # Scale for bubble size with minimum\n                })\n        \n        map_df = pd.DataFrame(map_data)\n        \n        # Create scatter mapbox plot\n        fig_map_scatter = px.scatter_mapbox(\n            map_df,\n            lat='Lat',\n            lon='Lon',\n            size='Size',\n            color='Count',\n            hover_name='Borough',\n            hover_data={'Count': True, 'Lat': False, 'Lon': False, 'Size': False},\n            color_continuous_scale='viridis',\n            title='July 2025 NYC Filming Events by Borough - Interactive Map',\n            zoom=10,\n            height=600\n        )\n        \n        fig_map_scatter.update_layout(\n            mapbox_style=\"open-street-map\",\n            margin={\"r\":0,\"t\":50,\"l\":0,\"b\":0}\n        )\n        fig_map_scatter.show()\n        \n        # Only create Folium maps if available\n        if FOLIUM_AVAILABLE:\n            print(\"🗺️ Creating Folium/Leaflet Maps...\")\n            \n            # Method 1: Simple Folium Map\n            try:\n                # Create base map centered on NYC\n                nyc_map = folium.Map(\n                    location=[40.7589, -73.9851], \n                    zoom_start=11,\n                    width='100%',\n                    height='600px'\n                )\n                \n                # Color mapping for different event counts\n                def get_color(count):\n                    if count > 150:\n                        return 'red'\n                    elif count > 100:\n                        return 'orange'\n                    elif count > 50:\n                        return 'yellow'\n                    elif count > 10:\n                        return 'green'\n                    else:\n                        return 'blue'\n                \n                # Add circle markers for each borough\n                for borough, count in borough_counts.items():\n                    if borough in borough_coords:\n                        # Create a detailed popup\n                        popup_text = f\"\"\"\n                        <h4>{borough}</h4>\n                        <p><b>Events:</b> {count}</p>\n                        <p><b>Percentage:</b> {(count/len(august_df))*100:.1f}%</p>\n                        \"\"\"\n                        \n                        folium.CircleMarker(\n                            location=borough_coords[borough],\n                            radius=max(count/8, 8),\n                            popup=popup_text,\n                            tooltip=f\"{borough}: {count} events\",\n                            color='black',\n                            fillColor=get_color(count),\n                            fill=True,\n                            weight=2,\n                            fillOpacity=0.7\n                        ).add_to(nyc_map)\n                \n                print(\"📍 Folium Map Created Successfully!\")\n                \n                # Try different display methods\n                try:\n                    # Method 1: Direct display (works in most Jupyter environments)\n                    from IPython.display import display\n                    display(nyc_map)\n                    print(\"✅ Map displayed using IPython.display\")\n                except:\n                    try:\n                        # Method 2: Save and show HTML\n                        map_file = 'nyc_filming_map.html'\n                        nyc_map.save(map_file)\n                        print(f\"✅ Map saved as {map_file}\")\n                        \n                        # Try to display the HTML\n                        from IPython.display import HTML, IFrame\n                        display(HTML(f'<iframe src=\"{map_file}\" width=\"100%\" height=\"600px\"></iframe>'))\n                        print(\"✅ Map displayed using HTML iframe\")\n                    except Exception as e:\n                        # Method 3: Just save the file\n                        map_file = 'nyc_filming_map.html'\n                        nyc_map.save(map_file)\n                        print(f\"✅ Map saved as {map_file}\")\n                        print(f\"📂 Open {map_file} in your browser to view the map\")\n                        \n                        # Return the map object for manual inspection\n                        print(\"🔧 Map object available as nyc_map variable\")\n                        \n            except Exception as e:\n                print(f\"❌ Error creating Folium map: {e}\")\n                print(\"💡 Tip: Make sure you have folium installed: pip install folium\")\n            \n            # Create a simple heatmap if possible\n            try:\n                print(\"\\\\n🔥 Creating Heatmap...\")\n                \n                # Create heatmap data\n                heat_data = []\n                for borough, count in borough_counts.items():\n                    if borough in borough_coords:\n                        lat, lon = borough_coords[borough]\n                        # Add points based on count\n                        for _ in range(min(count//5, 20)):  # Reduced for better performance\n                            lat_offset = np.random.normal(0, 0.005)  \n                            lon_offset = np.random.normal(0, 0.005)\n                            heat_data.append([lat + lat_offset, lon + lon_offset])\n                \n                # Create heatmap\n                heat_map = folium.Map(location=[40.7589, -73.9851], zoom_start=11)\n                HeatMap(heat_data).add_to(heat_map)\n                \n                # Save heatmap\n                heat_file = 'nyc_filming_heatmap.html'\n                heat_map.save(heat_file)\n                print(f\"✅ Heatmap saved as {heat_file}\")\n                \n                # Try to display\n                try:\n                    display(heat_map)\n                    print(\"✅ Heatmap displayed successfully\")\n                except:\n                    print(f\"📂 Open {heat_file} in your browser to view the heatmap\")\n                    \n            except Exception as e:\n                print(f\"❌ Error creating heatmap: {e}\")\n        \n        else:\n            print(\"⚠️ Folium not available. Using Plotly maps only.\")\n            print(\"💡 To install Folium: pip install folium\")\n        \n        print(\"\\\\n📍 Geographic breakdown of July 2025 NYC filming:\")\n        for borough, count in borough_counts.items():\n            percentage = (count / len(august_df)) * 100\n            print(f\"  {borough}: {count} events ({percentage:.1f}%)\")\n            \n        # Enhanced Zipcode Analysis\n        if 'ZipCode(s)' in august_df.columns:\n            print(f\"\\\\n📮 Enhanced Zipcode Analysis:\")\n            zipcode_data = []\n            for idx, row in august_df.iterrows():\n                if pd.notna(row['ZipCode(s)']):\n                    zips = str(row['ZipCode(s)']).split(',')\n                    for zip_code in zips:\n                        cleaned_zip = zip_code.strip()\n                        if cleaned_zip and len(cleaned_zip) == 5 and cleaned_zip.isdigit():\n                            zipcode_data.append(cleaned_zip)\n            \n            if zipcode_data:\n                zipcode_counts = pd.Series(zipcode_data).value_counts().head(15)\n                print(f\"Top 15 Zip Codes (out of {len(set(zipcode_data))} unique zip codes):\")\n                for i, (zipcode, count) in enumerate(zipcode_counts.items(), 1):\n                    percentage = (count / len(zipcode_data)) * 100\n                    print(f\"  {i:2d}. {zipcode}: {count} events ({percentage:.1f}%)\")\n            else:\n                print(\"  No valid 5-digit zip codes found in dataset\")\n    else:\n        print(\"📍 No geographic data available for mapping\")\n        \nelse:\n    print(\"🗺️ No July 2025 data available for mapping.\")\n    print(\"Showing geographic distribution of recent filming instead...\")\n    \n    # Show recent geographic data as alternative\n    recent_data = film.sort_values('StartDate_dt', ascending=False).head(100)\n    \n    if 'Borough' in recent_data.columns:\n        recent_borough_counts = recent_data['Borough'].value_counts()\n        \n        fig_recent_map = px.bar(\n            recent_borough_counts.reset_index(),\n            x='Borough',\n            y='count',\n            title='Recent NYC Filming Events by Borough (Last 100 Events)',\n            color='count',\n            color_continuous_scale='plasma'\n        )\n        fig_recent_map.show()\n        \n        print(\"📍 Recent filming locations:\")\n        for borough, count in recent_borough_counts.items():\n            print(f\"  {borough}: {count} events\")\n\n# Troubleshooting tips\nprint(\"\\\\n🔧 TROUBLESHOOTING TIPS:\")\nprint(\"1. If maps don't show: Restart kernel and run all cells\")\nprint(\"2. If Folium issues: pip install folium\")  \nprint(\"3. If still no maps: Check browser console for errors\")\nprint(\"4. Alternative: Maps are saved as HTML files you can open directly\")"
  },
  {
   "cell_type": "markdown",
   "id": "25d86537",
   "metadata": {},
   "source": "## 📺 Table: July 2025 Filming Projects"
  },
  {
   "cell_type": "code",
   "execution_count": null,
   "id": "13d95c16",
   "metadata": {},
   "outputs": [],
   "source": "# Key Insights based on actual July 2025 NYC film permit data\nif len(august_df) > 0:\n    print(\"## 🎯 Key Insights: July 2025 NYC Filming Activity (Real Data)\")\n    print()\n    print(\"### 📈 **Highlights:**\")\n    print(f\"- **Total Events**: {len(august_df)} filming events scheduled\")\n    print(f\"- **Unique Projects**: {august_df['EventID'].nunique()} distinct productions\")\n    \n    if 'Category' in august_df.columns:\n        top_category = august_df['Category'].value_counts().index[0]\n        top_category_count = august_df['Category'].value_counts().iloc[0]\n        print(f\"- **Dominant Category**: {top_category} with {top_category_count} events\")\n    \n    if 'Borough' in august_df.columns:\n        top_borough = august_df['Borough'].value_counts().index[0]  \n        top_borough_count = august_df['Borough'].value_counts().iloc[0]\n        print(f\"- **Top Filming Location**: {top_borough} with {top_borough_count} events\")\n    \n    print()\n    print(\"### 🌟 **Notable Trends:**\")\n    \n    if 'SubCategoryName' in august_df.columns:\n        subcategories = august_df['SubCategoryName'].value_counts()\n        print(f\"1. **Production Types**: {', '.join(subcategories.head(3).index.tolist())}\")\n    \n    if 'EventType' in august_df.columns:\n        event_types = august_df['EventType'].value_counts()\n        print(f\"2. **Event Types**: {', '.join(event_types.head(2).index.tolist())}\")\n    \n    print()\n    print(\"### 📍 **Location Analysis:**\")\n    if 'Borough' in august_df.columns:\n        for borough, count in august_df['Borough'].value_counts().items():\n            percentage = (count / len(august_df)) * 100\n            print(f\"- **{borough}**: {count} events ({percentage:.1f}%)\")\n            \n    print()\n    print(\"### 🎬 **Production Activity:**\")\n    if 'Category' in august_df.columns:\n        for category, count in august_df['Category'].value_counts().items():\n            percentage = (count / len(august_df)) * 100  \n            print(f\"- **{category}**: {count} events ({percentage:.1f}%)\")\nelse:\n    print(\"## 🎯 Key Insights: July 2025 NYC Filming Activity\")\n    print()\n    print(\"### 📈 **Current Status:**\")\n    print(\"- **No filming events found for July 2025** in the current dataset\")\n    print(\"- This suggests the dataset may have filtering or data issues\")\n    print()\n    print(\"### 🌟 **Dataset Overview:**\")\n    print(f\"- **Total Records**: {len(film):,} filming events in dataset\")\n    \n    # Show date range of available data\n    if 'StartDate_dt' in film.columns:\n        date_range_start = film['StartDate_dt'].min().strftime('%Y-%m-%d')\n        date_range_end = film['StartDate_dt'].max().strftime('%Y-%m-%d')\n        print(f\"- **Date Range**: {date_range_start} to {date_range_end}\")\n    \n    print(\"- **Data Source**: NYC film permits (official records)\")"
  }
 ],
 "metadata": {
  "kernelspec": {
   "display_name": "base",
   "language": "python",
   "name": "python3"
  },
  "language_info": {
   "codemirror_mode": {
    "name": "ipython",
    "version": 3
   },
   "file_extension": ".py",
   "mimetype": "text/x-python",
   "name": "python",
   "nbconvert_exporter": "python",
   "pygments_lexer": "ipython3",
   "version": "3.12.7"
  }
 },
 "nbformat": 4,
 "nbformat_minor": 5
}